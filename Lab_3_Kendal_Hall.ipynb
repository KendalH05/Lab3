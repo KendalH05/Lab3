{
  "nbformat": 4,
  "nbformat_minor": 0,
  "metadata": {
    "kernelspec": {
      "display_name": "Python 3.6",
      "language": "python",
      "name": "python36"
    },
    "language_info": {
      "codemirror_mode": {
        "name": "ipython",
        "version": 3
      },
      "file_extension": ".py",
      "mimetype": "text/x-python",
      "name": "python",
      "nbconvert_exporter": "python",
      "pygments_lexer": "ipython3",
      "version": "3.6.6"
    },
    "colab": {
      "name": "Lab 3 - Kendal_Hall.ipynb",
      "provenance": [],
      "collapsed_sections": [],
      "toc_visible": true
    }
  },
  "cells": [
    {
      "cell_type": "markdown",
      "metadata": {
        "collapsed": true,
        "id": "XmxCqgH0juTI",
        "colab_type": "text"
      },
      "source": [
        "# Lab 3 - Bar Charts, Line Charts, and Scatter Plots\n",
        "\n",
        "Welcome to Lab 3 !"
      ]
    },
    {
      "cell_type": "markdown",
      "metadata": {
        "id": "9cN2Ih67juTJ",
        "colab_type": "text"
      },
      "source": [
        "Methods for implementing the **pandas** functions in this lab come from https://pandas.pydata.org/pandas-docs/stable/index.html\n",
        "\n",
        "Methods for implementing the **matplotlib.pyplot** functions in this lab come from https://matplotlib.org/3.2.2/gallery/index.html\n",
        "\n",
        "Helpful reference for slicing and indexing:\n",
        "    \n",
        "    1)https://thispointer.com/python-pandas-select-rows-in-dataframe-by-conditions-on-multiple-columns/#pandas_select_rows_1\n",
        "    \n",
        "    2)https://pandas.pydata.org/pandas-docs/version/0.15.0/indexing.html"
      ]
    },
    {
      "cell_type": "markdown",
      "metadata": {
        "id": "-grhmTIbjuTK",
        "colab_type": "text"
      },
      "source": [
        "# Introduction\n",
        "\n",
        "**pandas** is a fast, powerful, flexible and easy to use open source data analysis and manipulation tool, built on top of the Python programming language. \n",
        "\n",
        "**matplotlib** is a comprehensive library for creating static, animated, and interactive visualizations in Python.\n",
        "\n",
        "Up to this point, we have utilized some of **pandas** and **matplotlib's** basic functionality for simple operations. We will now take a look at some more of the methods available to us using **pandas** and **matplotlib.** \n",
        "\n",
        "Areas to cover include:\n",
        "    \n",
        "   1) Grouped and Stacked Bar charts and **`.filter()`**\n",
        "   \n",
        "   2) Line charts, **`.reset_index()`**, and **`.drop()`**\n",
        "   \n",
        "   3) Unemployment and **`.sort_values()`**\n",
        "   \n",
        "   4) Scatter plots, **`.dropna()`**, and **`.isna()`**\n",
        "    \n",
        "Run these cells below to import your modules and get started:"
      ]
    },
    {
      "cell_type": "code",
      "metadata": {
        "id": "tSB6BgMajuTK",
        "colab_type": "code",
        "colab": {}
      },
      "source": [
        "import pandas as pd\n",
        "import numpy as np \n",
        "import matplotlib\n",
        "%matplotlib inline\n",
        "import matplotlib.pyplot as plt\n",
        "plt.style.use('fivethirtyeight')"
      ],
      "execution_count": 3,
      "outputs": []
    },
    {
      "cell_type": "markdown",
      "metadata": {
        "id": "ReDl3SbcjuTN",
        "colab_type": "text"
      },
      "source": [
        "# 1. Grouped and Stacked Bar Charts\n",
        "\n",
        "A **bar chart** depicts data values for a categorical variable, using rectangular bars having lengths proportional to category values. The chart is drawn using two axes: a category axis that displays the category names and a value axis that displays the counts.\n",
        "\n",
        "The data set we will be working with contains data from police shootings from 2015 to 2020.\n",
        "\n",
        "**NOTE:** This dataset can be found at: https://www.kaggle.com/ahsen1330/us-police-shootings?select=shootings.csv"
      ]
    },
    {
      "cell_type": "code",
      "metadata": {
        "id": "yjflf2UKjuTO",
        "colab_type": "code",
        "colab": {
          "base_uri": "https://localhost:8080/",
          "height": 302
        },
        "outputId": "10cd7981-8f49-469f-d557-b5d2afc5f1ec"
      },
      "source": [
        "shootings = pd.read_csv(\"shootings.csv\")\n",
        "\n",
        "print(\"This data set has \",shootings.shape[0], \" rows and\", shootings.shape[1], \"columns.\")\n",
        "\n",
        "print(shootings.dtypes)"
      ],
      "execution_count": 5,
      "outputs": [
        {
          "output_type": "stream",
          "text": [
            "This data set has  4895  rows and 15 columns.\n",
            "id                           int64\n",
            "name                        object\n",
            "date                        object\n",
            "manner_of_death             object\n",
            "armed                       object\n",
            "age                        float64\n",
            "gender                      object\n",
            "race                        object\n",
            "city                        object\n",
            "state                       object\n",
            "signs_of_mental_illness       bool\n",
            "threat_level                object\n",
            "flee                        object\n",
            "body_camera                   bool\n",
            "arms_category               object\n",
            "dtype: object\n"
          ],
          "name": "stdout"
        }
      ]
    },
    {
      "cell_type": "markdown",
      "metadata": {
        "id": "4T1BasZ2juTQ",
        "colab_type": "text"
      },
      "source": [
        "Let's go ahead and sample the data three times to see what kind of results we get."
      ]
    },
    {
      "cell_type": "code",
      "metadata": {
        "id": "geozUZuTjuTR",
        "colab_type": "code",
        "colab": {
          "base_uri": "https://localhost:8080/",
          "height": 206
        },
        "outputId": "2e51a0f6-da2c-4ac7-8503-25c3fea8937e"
      },
      "source": [
        "first_sample = shootings.sample(n=3)\n",
        "\n",
        "first_sample"
      ],
      "execution_count": 6,
      "outputs": [
        {
          "output_type": "execute_result",
          "data": {
            "text/html": [
              "<div>\n",
              "<style scoped>\n",
              "    .dataframe tbody tr th:only-of-type {\n",
              "        vertical-align: middle;\n",
              "    }\n",
              "\n",
              "    .dataframe tbody tr th {\n",
              "        vertical-align: top;\n",
              "    }\n",
              "\n",
              "    .dataframe thead th {\n",
              "        text-align: right;\n",
              "    }\n",
              "</style>\n",
              "<table border=\"1\" class=\"dataframe\">\n",
              "  <thead>\n",
              "    <tr style=\"text-align: right;\">\n",
              "      <th></th>\n",
              "      <th>id</th>\n",
              "      <th>name</th>\n",
              "      <th>date</th>\n",
              "      <th>manner_of_death</th>\n",
              "      <th>armed</th>\n",
              "      <th>age</th>\n",
              "      <th>gender</th>\n",
              "      <th>race</th>\n",
              "      <th>city</th>\n",
              "      <th>state</th>\n",
              "      <th>signs_of_mental_illness</th>\n",
              "      <th>threat_level</th>\n",
              "      <th>flee</th>\n",
              "      <th>body_camera</th>\n",
              "      <th>arms_category</th>\n",
              "    </tr>\n",
              "  </thead>\n",
              "  <tbody>\n",
              "    <tr>\n",
              "      <th>342</th>\n",
              "      <td>454</td>\n",
              "      <td>Sam Holmes</td>\n",
              "      <td>2015-05-08</td>\n",
              "      <td>shot</td>\n",
              "      <td>unknown</td>\n",
              "      <td>31.0</td>\n",
              "      <td>M</td>\n",
              "      <td>Black</td>\n",
              "      <td>Fridley</td>\n",
              "      <td>MN</td>\n",
              "      <td>False</td>\n",
              "      <td>attack</td>\n",
              "      <td>Car</td>\n",
              "      <td>False</td>\n",
              "      <td>Unknown</td>\n",
              "    </tr>\n",
              "    <tr>\n",
              "      <th>4585</th>\n",
              "      <td>5507</td>\n",
              "      <td>Michael Rivera</td>\n",
              "      <td>2020-01-23</td>\n",
              "      <td>shot</td>\n",
              "      <td>vehicle</td>\n",
              "      <td>32.0</td>\n",
              "      <td>M</td>\n",
              "      <td>Black</td>\n",
              "      <td>Bloomingdale</td>\n",
              "      <td>NJ</td>\n",
              "      <td>False</td>\n",
              "      <td>attack</td>\n",
              "      <td>Car</td>\n",
              "      <td>False</td>\n",
              "      <td>Vehicles</td>\n",
              "    </tr>\n",
              "    <tr>\n",
              "      <th>733</th>\n",
              "      <td>887</td>\n",
              "      <td>Eric Edgell</td>\n",
              "      <td>2015-10-04</td>\n",
              "      <td>shot</td>\n",
              "      <td>gun</td>\n",
              "      <td>27.0</td>\n",
              "      <td>M</td>\n",
              "      <td>White</td>\n",
              "      <td>Muscle Shoals</td>\n",
              "      <td>AL</td>\n",
              "      <td>True</td>\n",
              "      <td>attack</td>\n",
              "      <td>Foot</td>\n",
              "      <td>False</td>\n",
              "      <td>Guns</td>\n",
              "    </tr>\n",
              "  </tbody>\n",
              "</table>\n",
              "</div>"
            ],
            "text/plain": [
              "        id            name        date  ...  flee body_camera  arms_category\n",
              "342    454      Sam Holmes  2015-05-08  ...   Car       False        Unknown\n",
              "4585  5507  Michael Rivera  2020-01-23  ...   Car       False       Vehicles\n",
              "733    887     Eric Edgell  2015-10-04  ...  Foot       False           Guns\n",
              "\n",
              "[3 rows x 15 columns]"
            ]
          },
          "metadata": {
            "tags": []
          },
          "execution_count": 6
        }
      ]
    },
    {
      "cell_type": "code",
      "metadata": {
        "id": "avcExz8wjuTT",
        "colab_type": "code",
        "colab": {
          "base_uri": "https://localhost:8080/",
          "height": 223
        },
        "outputId": "7f79c10a-21de-4e4a-e4d9-292959e33c68"
      },
      "source": [
        "second_sample = shootings.sample(n=3)\n",
        "\n",
        "second_sample"
      ],
      "execution_count": 7,
      "outputs": [
        {
          "output_type": "execute_result",
          "data": {
            "text/html": [
              "<div>\n",
              "<style scoped>\n",
              "    .dataframe tbody tr th:only-of-type {\n",
              "        vertical-align: middle;\n",
              "    }\n",
              "\n",
              "    .dataframe tbody tr th {\n",
              "        vertical-align: top;\n",
              "    }\n",
              "\n",
              "    .dataframe thead th {\n",
              "        text-align: right;\n",
              "    }\n",
              "</style>\n",
              "<table border=\"1\" class=\"dataframe\">\n",
              "  <thead>\n",
              "    <tr style=\"text-align: right;\">\n",
              "      <th></th>\n",
              "      <th>id</th>\n",
              "      <th>name</th>\n",
              "      <th>date</th>\n",
              "      <th>manner_of_death</th>\n",
              "      <th>armed</th>\n",
              "      <th>age</th>\n",
              "      <th>gender</th>\n",
              "      <th>race</th>\n",
              "      <th>city</th>\n",
              "      <th>state</th>\n",
              "      <th>signs_of_mental_illness</th>\n",
              "      <th>threat_level</th>\n",
              "      <th>flee</th>\n",
              "      <th>body_camera</th>\n",
              "      <th>arms_category</th>\n",
              "    </tr>\n",
              "  </thead>\n",
              "  <tbody>\n",
              "    <tr>\n",
              "      <th>1101</th>\n",
              "      <td>1298</td>\n",
              "      <td>Charles Lee Lambert</td>\n",
              "      <td>2016-02-20</td>\n",
              "      <td>shot</td>\n",
              "      <td>gun</td>\n",
              "      <td>45.0</td>\n",
              "      <td>M</td>\n",
              "      <td>White</td>\n",
              "      <td>Iuka</td>\n",
              "      <td>MS</td>\n",
              "      <td>True</td>\n",
              "      <td>attack</td>\n",
              "      <td>Not fleeing</td>\n",
              "      <td>False</td>\n",
              "      <td>Guns</td>\n",
              "    </tr>\n",
              "    <tr>\n",
              "      <th>715</th>\n",
              "      <td>865</td>\n",
              "      <td>Philip Quinn</td>\n",
              "      <td>2015-09-24</td>\n",
              "      <td>shot</td>\n",
              "      <td>screwdriver</td>\n",
              "      <td>30.0</td>\n",
              "      <td>M</td>\n",
              "      <td>Other</td>\n",
              "      <td>St. Paul</td>\n",
              "      <td>MN</td>\n",
              "      <td>True</td>\n",
              "      <td>other</td>\n",
              "      <td>Not fleeing</td>\n",
              "      <td>False</td>\n",
              "      <td>Piercing objects</td>\n",
              "    </tr>\n",
              "    <tr>\n",
              "      <th>313</th>\n",
              "      <td>407</td>\n",
              "      <td>Dean Genova</td>\n",
              "      <td>2015-04-26</td>\n",
              "      <td>shot</td>\n",
              "      <td>gun</td>\n",
              "      <td>45.0</td>\n",
              "      <td>M</td>\n",
              "      <td>White</td>\n",
              "      <td>Fountain Valley</td>\n",
              "      <td>CA</td>\n",
              "      <td>False</td>\n",
              "      <td>attack</td>\n",
              "      <td>Not fleeing</td>\n",
              "      <td>False</td>\n",
              "      <td>Guns</td>\n",
              "    </tr>\n",
              "  </tbody>\n",
              "</table>\n",
              "</div>"
            ],
            "text/plain": [
              "        id                 name  ... body_camera     arms_category\n",
              "1101  1298  Charles Lee Lambert  ...       False              Guns\n",
              "715    865         Philip Quinn  ...       False  Piercing objects\n",
              "313    407          Dean Genova  ...       False              Guns\n",
              "\n",
              "[3 rows x 15 columns]"
            ]
          },
          "metadata": {
            "tags": []
          },
          "execution_count": 7
        }
      ]
    },
    {
      "cell_type": "code",
      "metadata": {
        "id": "lgWC-RP_juTW",
        "colab_type": "code",
        "colab": {
          "base_uri": "https://localhost:8080/",
          "height": 206
        },
        "outputId": "bed9a8e9-fb82-411d-97be-3545c1019107"
      },
      "source": [
        "third_sample = shootings.sample(n=3)\n",
        "\n",
        "third_sample"
      ],
      "execution_count": 8,
      "outputs": [
        {
          "output_type": "execute_result",
          "data": {
            "text/html": [
              "<div>\n",
              "<style scoped>\n",
              "    .dataframe tbody tr th:only-of-type {\n",
              "        vertical-align: middle;\n",
              "    }\n",
              "\n",
              "    .dataframe tbody tr th {\n",
              "        vertical-align: top;\n",
              "    }\n",
              "\n",
              "    .dataframe thead th {\n",
              "        text-align: right;\n",
              "    }\n",
              "</style>\n",
              "<table border=\"1\" class=\"dataframe\">\n",
              "  <thead>\n",
              "    <tr style=\"text-align: right;\">\n",
              "      <th></th>\n",
              "      <th>id</th>\n",
              "      <th>name</th>\n",
              "      <th>date</th>\n",
              "      <th>manner_of_death</th>\n",
              "      <th>armed</th>\n",
              "      <th>age</th>\n",
              "      <th>gender</th>\n",
              "      <th>race</th>\n",
              "      <th>city</th>\n",
              "      <th>state</th>\n",
              "      <th>signs_of_mental_illness</th>\n",
              "      <th>threat_level</th>\n",
              "      <th>flee</th>\n",
              "      <th>body_camera</th>\n",
              "      <th>arms_category</th>\n",
              "    </tr>\n",
              "  </thead>\n",
              "  <tbody>\n",
              "    <tr>\n",
              "      <th>418</th>\n",
              "      <td>540</td>\n",
              "      <td>Isiah Hampton</td>\n",
              "      <td>2015-06-10</td>\n",
              "      <td>shot</td>\n",
              "      <td>gun</td>\n",
              "      <td>19.0</td>\n",
              "      <td>M</td>\n",
              "      <td>Black</td>\n",
              "      <td>Bronx</td>\n",
              "      <td>NY</td>\n",
              "      <td>False</td>\n",
              "      <td>attack</td>\n",
              "      <td>Not fleeing</td>\n",
              "      <td>False</td>\n",
              "      <td>Guns</td>\n",
              "    </tr>\n",
              "    <tr>\n",
              "      <th>278</th>\n",
              "      <td>366</td>\n",
              "      <td>Dante Noble</td>\n",
              "      <td>2015-04-15</td>\n",
              "      <td>shot</td>\n",
              "      <td>knife</td>\n",
              "      <td>41.0</td>\n",
              "      <td>M</td>\n",
              "      <td>Black</td>\n",
              "      <td>Spartanburg</td>\n",
              "      <td>SC</td>\n",
              "      <td>False</td>\n",
              "      <td>attack</td>\n",
              "      <td>Not fleeing</td>\n",
              "      <td>False</td>\n",
              "      <td>Sharp objects</td>\n",
              "    </tr>\n",
              "    <tr>\n",
              "      <th>2407</th>\n",
              "      <td>2795</td>\n",
              "      <td>Walter Lynde</td>\n",
              "      <td>2017-07-23</td>\n",
              "      <td>shot</td>\n",
              "      <td>toy weapon</td>\n",
              "      <td>49.0</td>\n",
              "      <td>M</td>\n",
              "      <td>White</td>\n",
              "      <td>Spencer</td>\n",
              "      <td>MA</td>\n",
              "      <td>False</td>\n",
              "      <td>attack</td>\n",
              "      <td>Car</td>\n",
              "      <td>False</td>\n",
              "      <td>Other unusual objects</td>\n",
              "    </tr>\n",
              "  </tbody>\n",
              "</table>\n",
              "</div>"
            ],
            "text/plain": [
              "        id           name  ... body_camera          arms_category\n",
              "418    540  Isiah Hampton  ...       False                   Guns\n",
              "278    366    Dante Noble  ...       False          Sharp objects\n",
              "2407  2795   Walter Lynde  ...       False  Other unusual objects\n",
              "\n",
              "[3 rows x 15 columns]"
            ]
          },
          "metadata": {
            "tags": []
          },
          "execution_count": 8
        }
      ]
    },
    {
      "cell_type": "markdown",
      "metadata": {
        "id": "YNwWlZ3kjuTY",
        "colab_type": "text"
      },
      "source": [
        "Let's create a bar chart displaying how many people who were killed had signs of mental illness.\n",
        "\n",
        "Let's first start by creating a sub-table containing 'id,' 'name,' 'gender,' 'race,' and 'sign_of_mental_illness.'\n",
        "\n",
        "We can do this using the **`.filter()`** method in the cell below"
      ]
    },
    {
      "cell_type": "code",
      "metadata": {
        "scrolled": true,
        "id": "Oz505oe1juTY",
        "colab_type": "code",
        "colab": {
          "base_uri": "https://localhost:8080/",
          "height": 151
        },
        "outputId": "ddfab2f7-e0d1-4c0b-96b7-de8fd0551db4"
      },
      "source": [
        "sub_table = shootings.filter(items = ['id', 'name','gender','race','signs_of_mental_illness'])\n",
        "\n",
        "print(sub_table.shape)\n",
        "print()\n",
        "print(sub_table.dtypes)\n"
      ],
      "execution_count": 9,
      "outputs": [
        {
          "output_type": "stream",
          "text": [
            "(4895, 5)\n",
            "\n",
            "id                          int64\n",
            "name                       object\n",
            "gender                     object\n",
            "race                       object\n",
            "signs_of_mental_illness      bool\n",
            "dtype: object\n"
          ],
          "name": "stdout"
        }
      ]
    },
    {
      "cell_type": "markdown",
      "metadata": {
        "id": "Mm90GtsNjuTb",
        "colab_type": "text"
      },
      "source": [
        "Now lets create arrays for the signs of mental illness. We will have an array for men  who did and didn't show signs of mental illness, as well as for women containing who did and didn't show signs of mental illness. We can \"filter\" through the dataframe(table) easily using the syntax below.\n",
        "\n",
        "Then, we will create a visual with the **`plt.bar`** fucntion\n",
        "\n",
        "**NOTE:** This link can be used as a reference:  https://python-graph-gallery.com/11-grouped-barplot/"
      ]
    },
    {
      "cell_type": "code",
      "metadata": {
        "id": "wZiyQa8zjuTb",
        "colab_type": "code",
        "colab": {
          "base_uri": "https://localhost:8080/",
          "height": 325
        },
        "outputId": "a73084d0-0a3f-4847-f6ed-e8f0f807d934"
      },
      "source": [
        "# This contains an array for all the men that showed signs of mental illness\n",
        "Menbar1 = sub_table[(sub_table.gender == 'M') & (sub_table.signs_of_mental_illness == True)]\n",
        "# This contains an array for all the men that did not show signs of mental illness\n",
        "Menbar2 = sub_table[(sub_table.gender == 'M') & (sub_table.signs_of_mental_illness == False)]\n",
        "# This contains an array for all the women that showed signs of mental illness\n",
        "Womenbar1 =sub_table[(sub_table.gender == 'F') & (sub_table.signs_of_mental_illness == True)]\n",
        "# This contains an array for all the men that did not show signs of mental illness\n",
        "Womenbar2 = sub_table[(sub_table.gender == 'F') & (sub_table.signs_of_mental_illness == False)]\n",
        "\n",
        "# Bar variable for men and women that showed signs of mental illness\n",
        "\n",
        "SOMI = [len(Menbar1), len(Menbar2)] # SOMI - 'Signs of Mental Illness'\n",
        "\n",
        "# Bar varibale for men and women that did not show signs of mental illness\n",
        "\n",
        "NSOMI = [len(Womenbar1), len(Womenbar2)]  # NSOMI - 'No Signs of Mental Illness'\n",
        " \n",
        "\n",
        "bar_width = 0.35\n",
        "\n",
        "# Set position of bar on X axis\n",
        "r1 = np.arange(len(SOMI))  # this variable contains the number of bar groups there will be, which is two\n",
        "r2 = [x + bar_width for x in r1]\n",
        "\n",
        "\n",
        "# Make the plot\n",
        "plt.bar(r1, SOMI, color='blue', width=bar_width, edgecolor='black', linewidth = 1.2, label='Men')\n",
        "plt.bar(r2, NSOMI, color='red', width=bar_width, edgecolor='black',linewidth =1.2, label='Women')\n",
        "\n",
        "# Add xticks on the middle of the group bars\n",
        "plt.xlabel('Groups', fontweight='bold')\n",
        "plt.ylabel('Death Count')\n",
        "plt.xticks([r + 0.15 for r in range(len(SOMI))], ['SOMI','NSOMI'])\n",
        "\n",
        "\n",
        "# Create legend & Show graphic\n",
        "plt.title(\"People who did and did not show signs of mental illness\")\n",
        "plt.legend()\n",
        "plt.show()\n",
        "\n",
        "\n"
      ],
      "execution_count": 10,
      "outputs": [
        {
          "output_type": "display_data",
          "data": {
            "image/png": "[encoded data removed]",
            "text/plain": [
              "<Figure size 432x288 with 1 Axes>"
            ]
          },
          "metadata": {
            "tags": []
          }
        }
      ]
    },
    {
      "cell_type": "markdown",
      "metadata": {
        "id": "nCsKiNkkjuTe",
        "colab_type": "text"
      },
      "source": [
        "We can also turn the same data into a **stacked bar chart**. "
      ]
    },
    {
      "cell_type": "code",
      "metadata": {
        "scrolled": true,
        "id": "ct0XrWYTjuTf",
        "colab_type": "code",
        "colab": {
          "base_uri": "https://localhost:8080/",
          "height": 342
        },
        "outputId": "8cf3bf42-9640-448f-9319-8afc817c66fa"
      },
      "source": [
        "Menbar1 = len(sub_table[(sub_table.gender == 'M') & (sub_table.signs_of_mental_illness == True)])\n",
        "Menbar2 = len(sub_table[(sub_table.gender == 'M') & (sub_table.signs_of_mental_illness == False)])\n",
        "Womenbar1 = len(sub_table[(sub_table.gender == 'F') & (sub_table.signs_of_mental_illness == True)])\n",
        "Womenbar2 = len(sub_table[(sub_table.gender == 'F') & (sub_table.signs_of_mental_illness == False)])\n",
        "\n",
        "            \n",
        "# Bar variable for men and women that showed signs of mental illness\n",
        "\n",
        "SOMI = [Menbar1, Menbar2]\n",
        "\n",
        "# Bar varibale for men and women that did not show signs of mental illness\n",
        "NSOMI = [Womenbar1, Womenbar2]  \n",
        "\n",
        "# Heights of bars1 + bars2\n",
        "bars = np.add(SOMI, NSOMI).tolist()\n",
        "\n",
        "# The position of the bars on the x-axis\n",
        "r = [0,1]\n",
        "\n",
        "bar_names = ['SOMI', 'NSOMI']\n",
        "\n",
        "# Create the womens bars\n",
        "plt.bar(r, NSOMI, color='red', edgecolor='black', width= 0.5, linewidth = 1.5, label = 'Women')\n",
        "# Create mens bars (middle), on top of the firs ones\n",
        "plt.bar(r, SOMI, bottom=NSOMI, color='blue', edgecolor='black', linewidth = 1.5, width=0.5, label = 'Men')\n",
        "\n",
        "# Custom X axis\n",
        "plt.xticks(r, bar_names, fontweight='bold')\n",
        "plt.xlabel(\"group\")\n",
        "plt.ylabel(\"Death Count\")\n",
        " \n",
        "# Show graphic\n",
        "plt.title(\"People who did and did not show signs of mental illness\")\n",
        "plt.legend()\n",
        "#plt.show()\n",
        "\n",
        "\n",
        "\n",
        "\n",
        "\n",
        "\n"
      ],
      "execution_count": 21,
      "outputs": [
        {
          "output_type": "execute_result",
          "data": {
            "text/plain": [
              "<matplotlib.legend.Legend at 0x7f17a9c32320>"
            ]
          },
          "metadata": {
            "tags": []
          },
          "execution_count": 21
        },
        {
          "output_type": "display_data",
          "data": {
            "image/png": "[encoded data removed]",
            "text/plain": [
              "<Figure size 432x288 with 1 Axes>"
            ]
          },
          "metadata": {
            "tags": []
          }
        }
      ]
    },
    {
      "cell_type": "markdown",
      "metadata": {
        "id": "HKheaS-HjuTh",
        "colab_type": "text"
      },
      "source": [
        "**Question:** Create a stacked bar chart displaying the total value of people who showed \"Signs of Mental Illness\" (SOMI) mental illness stacked on the number of men who showed SOMI. Do the same for women."
      ]
    },
    {
      "cell_type": "code",
      "metadata": {
        "id": "SMYVOUZLjuTh",
        "colab_type": "code",
        "colab": {
          "base_uri": "https://localhost:8080/",
          "height": 342
        },
        "outputId": "98111234-680c-4495-ebaa-090ed54f9b68"
      },
      "source": [
        "Menbar1 = len(sub_table[(sub_table.gender == 'M') & (sub_table.signs_of_mental_illness == True)])\n",
        "Womenbar1 = len(sub_table[(sub_table.gender == 'F') & (sub_table.signs_of_mental_illness == True)])\n",
        "\n",
        "\n",
        "            \n",
        "# Bar variable for men and women that showed signs of mental illness\n",
        "\n",
        "Men = [Menbar1, Womenbar1]\n",
        "\n",
        "# Bar varibale for men and women that did not show signs of mental illness\n",
        "Women = [Womenbar1, Menbar1]  \n",
        "\n",
        "# Heights of bars1 + bars2\n",
        "bars = np.add(Men, Women).tolist()\n",
        "\n",
        "# The position of the bars on the x-axis\n",
        "r = [0,1]\n",
        "\n",
        "bar_names = ['MEN SOMI', 'WOMEN SOMI']\n",
        "\n",
        "# Create the womens bars\n",
        "plt.bar(r, Men, color='red', edgecolor='black', width= 0.5, linewidth = 1.5, label = 'Gender')\n",
        "# Create mens bars (middle), on top of the firs ones\n",
        "plt.bar(r, Women, bottom=Men, color='blue', edgecolor='black', linewidth = 1.5, width=0.5, label = 'Total')\n",
        "\n",
        "# Custom X axis\n",
        "plt.xticks(r, bar_names, fontweight='bold')\n",
        "plt.xlabel(\"Group Gender\")\n",
        "plt.ylabel(\"Death Count\")\n",
        " \n",
        "# Show graphic\n",
        "plt.title(\"People who did and did not show signs of mental illness\")\n",
        "plt.legend()\n",
        "#plt.show()\n",
        "\n",
        "\n"
      ],
      "execution_count": 32,
      "outputs": [
        {
          "output_type": "execute_result",
          "data": {
            "text/plain": [
              "<matplotlib.legend.Legend at 0x7f17a9845550>"
            ]
          },
          "metadata": {
            "tags": []
          },
          "execution_count": 32
        },
        {
          "output_type": "display_data",
          "data": {
            "image/png": "[encoded data removed]",
            "text/plain": [
              "<Figure size 432x288 with 1 Axes>"
            ]
          },
          "metadata": {
            "tags": []
          }
        }
      ]
    },
    {
      "cell_type": "markdown",
      "metadata": {
        "id": "zFijuZp8juTk",
        "colab_type": "text"
      },
      "source": [
        "**Question:** Create a grouped bar chart comparing the number of black men and white men grouped together, along with black women and white women grouped together."
      ]
    },
    {
      "cell_type": "code",
      "metadata": {
        "id": "agTJzZAnjuTl",
        "colab_type": "code",
        "colab": {
          "base_uri": "https://localhost:8080/",
          "height": 325
        },
        "outputId": "e5e4c849-5d84-4a35-87f8-d7130404fae7"
      },
      "source": [
        "# This contains an array for all the men that showed signs of mental illness\n",
        "Menbar1 = sub_table[(sub_table.gender == 'M') & (sub_table.race == 'Black')]\n",
        "# This contains an array for all the men that did not show signs of mental illness\n",
        "Menbar2 = sub_table[(sub_table.gender == 'M') & (sub_table.race == 'White')]\n",
        "# This contains an array for all the women that showed signs of mental illness\n",
        "Womenbar1 =sub_table[(sub_table.gender == 'F') & (sub_table.race == 'Black')]\n",
        "# This contains an array for all the men that did not show signs of mental illness\n",
        "Womenbar2 = sub_table[(sub_table.gender == 'F') & (sub_table.race == 'White')]\n",
        "\n",
        "# Bar variable for men and women that showed signs of mental illness\n",
        "\n",
        "Black_race = [len(Menbar1), len(Womenbar1)] # SOMI - 'Signs of Mental Illness'\n",
        "\n",
        "# Bar varibale for men and women that did not show signs of mental illness\n",
        "\n",
        "White_race = [len(Menbar2), len(Womenbar2)]  # NSOMI - 'No Signs of Mental Illness'\n",
        " \n",
        "\n",
        "bar_width = 0.35\n",
        "\n",
        "# Set position of bar on X axis\n",
        "r1 = np.arange(len(Black_race))  # this variable contains the number of bar groups there will be, which is two\n",
        "r2 = [x + bar_width for x in r1]\n",
        "\n",
        "\n",
        "# Make the plot\n",
        "plt.bar(r1, Black_race, color='blue', width=bar_width, edgecolor='black', linewidth = 1.2, label='Black People')\n",
        "plt.bar(r2, White_race, color='red', width=bar_width, edgecolor='black',linewidth =1.2, label='White People')\n",
        "\n",
        "# Add xticks on the middle of the group bars\n",
        "plt.xlabel('Races', fontweight='bold')\n",
        "plt.ylabel('Populations')\n",
        "plt.xticks([r + 0.15 for r in range(len(SOMI))], ['Men','Women'])\n",
        "\n",
        "\n",
        "# Create legend & Show graphic\n",
        "plt.title(\"Gendered Race Populations\")\n",
        "plt.legend()\n",
        "plt.show()\n"
      ],
      "execution_count": 25,
      "outputs": [
        {
          "output_type": "display_data",
          "data": {
            "image/png": "[encoded data removed]",
            "text/plain": [
              "<Figure size 432x288 with 1 Axes>"
            ]
          },
          "metadata": {
            "tags": []
          }
        }
      ]
    },
    {
      "cell_type": "markdown",
      "metadata": {
        "id": "oFnt0vrkjuTn",
        "colab_type": "text"
      },
      "source": [
        "# 2. Line Charts\n",
        "\n",
        "A **line chart** (or **line graph**) depicts data trends by using straight lines to connect successive data points in a scatter plot. The straight lines show the general direction that data changes over time. Because trends involve time, line charts commonly use a time metric for the horizontal axis. \n",
        "\n",
        "Let's work with data set on unemployment in all counties of America from 1990 - 2016. \n",
        "\n",
        "**NOTE:** This data set can be found at: https://www.kaggle.com/jayrav13/unemployment-by-county-us?select=output.csv"
      ]
    },
    {
      "cell_type": "code",
      "metadata": {
        "id": "Pyc-OHR_juTo",
        "colab_type": "code",
        "colab": {
          "base_uri": "https://localhost:8080/",
          "height": 34
        },
        "outputId": "b45cd03f-6120-45cf-b00d-298cbb2d4c12"
      },
      "source": [
        "county_unemployment = pd.read_csv(\"county_unemployment.csv\")\n",
        "print(county_unemployment.shape)"
      ],
      "execution_count": 34,
      "outputs": [
        {
          "output_type": "stream",
          "text": [
            "(885548, 5)\n"
          ],
          "name": "stdout"
        }
      ]
    },
    {
      "cell_type": "code",
      "metadata": {
        "id": "gJt847jujuTq",
        "colab_type": "code",
        "colab": {
          "base_uri": "https://localhost:8080/",
          "height": 118
        },
        "outputId": "db6dfdcb-7b4c-4313-878b-5413a5283e96"
      },
      "source": [
        "county_unemployment.dtypes"
      ],
      "execution_count": 35,
      "outputs": [
        {
          "output_type": "execute_result",
          "data": {
            "text/plain": [
              "Year        int64\n",
              "Month      object\n",
              "State      object\n",
              "County     object\n",
              "Rate      float64\n",
              "dtype: object"
            ]
          },
          "metadata": {
            "tags": []
          },
          "execution_count": 35
        }
      ]
    },
    {
      "cell_type": "code",
      "metadata": {
        "id": "ans50DLLjuTs",
        "colab_type": "code",
        "colab": {
          "base_uri": "https://localhost:8080/",
          "height": 195
        },
        "outputId": "ac0e225f-7b32-4f91-ca03-285bbd5cee47"
      },
      "source": [
        "county_unemployment.sample(n=5)"
      ],
      "execution_count": 36,
      "outputs": [
        {
          "output_type": "execute_result",
          "data": {
            "text/html": [
              "<div>\n",
              "<style scoped>\n",
              "    .dataframe tbody tr th:only-of-type {\n",
              "        vertical-align: middle;\n",
              "    }\n",
              "\n",
              "    .dataframe tbody tr th {\n",
              "        vertical-align: top;\n",
              "    }\n",
              "\n",
              "    .dataframe thead th {\n",
              "        text-align: right;\n",
              "    }\n",
              "</style>\n",
              "<table border=\"1\" class=\"dataframe\">\n",
              "  <thead>\n",
              "    <tr style=\"text-align: right;\">\n",
              "      <th></th>\n",
              "      <th>Year</th>\n",
              "      <th>Month</th>\n",
              "      <th>State</th>\n",
              "      <th>County</th>\n",
              "      <th>Rate</th>\n",
              "    </tr>\n",
              "  </thead>\n",
              "  <tbody>\n",
              "    <tr>\n",
              "      <th>683996</th>\n",
              "      <td>2001</td>\n",
              "      <td>May</td>\n",
              "      <td>Ohio</td>\n",
              "      <td>Wayne County</td>\n",
              "      <td>3.2</td>\n",
              "    </tr>\n",
              "    <tr>\n",
              "      <th>653623</th>\n",
              "      <td>2000</td>\n",
              "      <td>January</td>\n",
              "      <td>Texas</td>\n",
              "      <td>Blanco County</td>\n",
              "      <td>3.8</td>\n",
              "    </tr>\n",
              "    <tr>\n",
              "      <th>690399</th>\n",
              "      <td>2001</td>\n",
              "      <td>September</td>\n",
              "      <td>Illinois</td>\n",
              "      <td>Marshall County</td>\n",
              "      <td>4.2</td>\n",
              "    </tr>\n",
              "    <tr>\n",
              "      <th>145277</th>\n",
              "      <td>2010</td>\n",
              "      <td>March</td>\n",
              "      <td>Texas</td>\n",
              "      <td>Haskell County</td>\n",
              "      <td>5.8</td>\n",
              "    </tr>\n",
              "    <tr>\n",
              "      <th>858329</th>\n",
              "      <td>2008</td>\n",
              "      <td>November</td>\n",
              "      <td>New Jersey</td>\n",
              "      <td>Camden County</td>\n",
              "      <td>6.5</td>\n",
              "    </tr>\n",
              "  </tbody>\n",
              "</table>\n",
              "</div>"
            ],
            "text/plain": [
              "        Year      Month       State           County  Rate\n",
              "683996  2001        May        Ohio     Wayne County   3.2\n",
              "653623  2000    January       Texas    Blanco County   3.8\n",
              "690399  2001  September    Illinois  Marshall County   4.2\n",
              "145277  2010      March       Texas   Haskell County   5.8\n",
              "858329  2008   November  New Jersey    Camden County   6.5"
            ]
          },
          "metadata": {
            "tags": []
          },
          "execution_count": 36
        }
      ]
    },
    {
      "cell_type": "markdown",
      "metadata": {
        "id": "caJIUVHcjuTu",
        "colab_type": "text"
      },
      "source": [
        "As you can see this is a very large data set. Let's work with a smaller data set with only the counties in the state of Maryland"
      ]
    },
    {
      "cell_type": "code",
      "metadata": {
        "scrolled": true,
        "id": "atuTuDDSjuTv",
        "colab_type": "code",
        "colab": {
          "base_uri": "https://localhost:8080/",
          "height": 168
        },
        "outputId": "c190737f-29b1-4f99-c1db-f94c4cb4d9d2"
      },
      "source": [
        "md_unemployment = county_unemployment[county_unemployment.State == 'Maryland']\n",
        "md_unemployment = md_unemployment.filter(items = ['Year','Month', \"State\", 'County', 'Rate'])\n",
        "print(md_unemployment.shape)\n",
        "print(md_unemployment.sample(n=7))"
      ],
      "execution_count": 37,
      "outputs": [
        {
          "output_type": "stream",
          "text": [
            "(7776, 5)\n",
            "        Year     Month     State              County  Rate\n",
            "515834  1999   January  Maryland   Washington County   5.0\n",
            "761218  2007  December  Maryland       Talbot County   3.3\n",
            "368742  1995  February  Maryland     Somerset County  13.2\n",
            "45627   2014       May  Maryland      Calvert County   5.3\n",
            "718126  2006   January  Maryland    Worcester County   9.8\n",
            "270902  1990  February  Maryland  Saint Marys County   3.9\n",
            "14586   2015   January  Maryland      Carroll County   5.0\n"
          ],
          "name": "stdout"
        }
      ]
    },
    {
      "cell_type": "markdown",
      "metadata": {
        "id": "GNleorf5juTx",
        "colab_type": "text"
      },
      "source": [
        "This is much better. Now because each year has different rates of unemployment, let's compute the average rate of unemployment for each year and store them in a dictionary.\n",
        "\n",
        "First, lets sort this dataset by the 'Year' column."
      ]
    },
    {
      "cell_type": "code",
      "metadata": {
        "id": "KV6daFnujuTx",
        "colab_type": "code",
        "colab": {
          "base_uri": "https://localhost:8080/",
          "height": 402
        },
        "outputId": "30d4e0c9-d918-42bf-a6dc-138c5b44e3bc"
      },
      "source": [
        "md_unemployment = md_unemployment.sort_values('Year', ascending = True)\n",
        "md_unemployment"
      ],
      "execution_count": 38,
      "outputs": [
        {
          "output_type": "execute_result",
          "data": {
            "text/html": [
              "<div>\n",
              "<style scoped>\n",
              "    .dataframe tbody tr th:only-of-type {\n",
              "        vertical-align: middle;\n",
              "    }\n",
              "\n",
              "    .dataframe tbody tr th {\n",
              "        vertical-align: top;\n",
              "    }\n",
              "\n",
              "    .dataframe thead th {\n",
              "        text-align: right;\n",
              "    }\n",
              "</style>\n",
              "<table border=\"1\" class=\"dataframe\">\n",
              "  <thead>\n",
              "    <tr style=\"text-align: right;\">\n",
              "      <th></th>\n",
              "      <th>Year</th>\n",
              "      <th>Month</th>\n",
              "      <th>State</th>\n",
              "      <th>County</th>\n",
              "      <th>Rate</th>\n",
              "    </tr>\n",
              "  </thead>\n",
              "  <tbody>\n",
              "    <tr>\n",
              "      <th>287569</th>\n",
              "      <td>1990</td>\n",
              "      <td>June</td>\n",
              "      <td>Maryland</td>\n",
              "      <td>Cecil County</td>\n",
              "      <td>8.7</td>\n",
              "    </tr>\n",
              "    <tr>\n",
              "      <th>279127</th>\n",
              "      <td>1990</td>\n",
              "      <td>August</td>\n",
              "      <td>Maryland</td>\n",
              "      <td>Kent County</td>\n",
              "      <td>5.6</td>\n",
              "    </tr>\n",
              "    <tr>\n",
              "      <th>279128</th>\n",
              "      <td>1990</td>\n",
              "      <td>August</td>\n",
              "      <td>Maryland</td>\n",
              "      <td>Caroline County</td>\n",
              "      <td>3.6</td>\n",
              "    </tr>\n",
              "    <tr>\n",
              "      <th>279129</th>\n",
              "      <td>1990</td>\n",
              "      <td>August</td>\n",
              "      <td>Maryland</td>\n",
              "      <td>Somerset County</td>\n",
              "      <td>12.9</td>\n",
              "    </tr>\n",
              "    <tr>\n",
              "      <th>281927</th>\n",
              "      <td>1990</td>\n",
              "      <td>May</td>\n",
              "      <td>Maryland</td>\n",
              "      <td>Cecil County</td>\n",
              "      <td>9.1</td>\n",
              "    </tr>\n",
              "    <tr>\n",
              "      <th>...</th>\n",
              "      <td>...</td>\n",
              "      <td>...</td>\n",
              "      <td>...</td>\n",
              "      <td>...</td>\n",
              "      <td>...</td>\n",
              "    </tr>\n",
              "    <tr>\n",
              "      <th>77024</th>\n",
              "      <td>2016</td>\n",
              "      <td>August</td>\n",
              "      <td>Maryland</td>\n",
              "      <td>Caroline County</td>\n",
              "      <td>4.8</td>\n",
              "    </tr>\n",
              "    <tr>\n",
              "      <th>77023</th>\n",
              "      <td>2016</td>\n",
              "      <td>August</td>\n",
              "      <td>Maryland</td>\n",
              "      <td>Kent County</td>\n",
              "      <td>4.7</td>\n",
              "    </tr>\n",
              "    <tr>\n",
              "      <th>77022</th>\n",
              "      <td>2016</td>\n",
              "      <td>August</td>\n",
              "      <td>Maryland</td>\n",
              "      <td>Harford County</td>\n",
              "      <td>4.3</td>\n",
              "    </tr>\n",
              "    <tr>\n",
              "      <th>68475</th>\n",
              "      <td>2016</td>\n",
              "      <td>February</td>\n",
              "      <td>Maryland</td>\n",
              "      <td>Cecil County</td>\n",
              "      <td>5.9</td>\n",
              "    </tr>\n",
              "    <tr>\n",
              "      <th>82736</th>\n",
              "      <td>2016</td>\n",
              "      <td>January</td>\n",
              "      <td>Maryland</td>\n",
              "      <td>Caroline County</td>\n",
              "      <td>5.6</td>\n",
              "    </tr>\n",
              "  </tbody>\n",
              "</table>\n",
              "<p>7776 rows × 5 columns</p>\n",
              "</div>"
            ],
            "text/plain": [
              "        Year     Month     State           County  Rate\n",
              "287569  1990      June  Maryland     Cecil County   8.7\n",
              "279127  1990    August  Maryland      Kent County   5.6\n",
              "279128  1990    August  Maryland  Caroline County   3.6\n",
              "279129  1990    August  Maryland  Somerset County  12.9\n",
              "281927  1990       May  Maryland     Cecil County   9.1\n",
              "...      ...       ...       ...              ...   ...\n",
              "77024   2016    August  Maryland  Caroline County   4.8\n",
              "77023   2016    August  Maryland      Kent County   4.7\n",
              "77022   2016    August  Maryland   Harford County   4.3\n",
              "68475   2016  February  Maryland     Cecil County   5.9\n",
              "82736   2016   January  Maryland  Caroline County   5.6\n",
              "\n",
              "[7776 rows x 5 columns]"
            ]
          },
          "metadata": {
            "tags": []
          },
          "execution_count": 38
        }
      ]
    },
    {
      "cell_type": "markdown",
      "metadata": {
        "id": "w_O5WyrkjuTz",
        "colab_type": "text"
      },
      "source": [
        "Referencing the indexes of each row will get difficult if we leave them as they are. Let's reset the indexes to have them start from 0 up.\n",
        "\n",
        "We can do this using the **`reset_index.()`** method in the cell below"
      ]
    },
    {
      "cell_type": "code",
      "metadata": {
        "id": "711AIUfqjuT0",
        "colab_type": "code",
        "colab": {
          "base_uri": "https://localhost:8080/",
          "height": 402
        },
        "outputId": "b7a0ef9f-fe10-40cf-f65b-8e4d7dabdb15"
      },
      "source": [
        "md_unemployment = md_unemployment.reset_index()\n",
        "md_unemployment"
      ],
      "execution_count": 39,
      "outputs": [
        {
          "output_type": "execute_result",
          "data": {
            "text/html": [
              "<div>\n",
              "<style scoped>\n",
              "    .dataframe tbody tr th:only-of-type {\n",
              "        vertical-align: middle;\n",
              "    }\n",
              "\n",
              "    .dataframe tbody tr th {\n",
              "        vertical-align: top;\n",
              "    }\n",
              "\n",
              "    .dataframe thead th {\n",
              "        text-align: right;\n",
              "    }\n",
              "</style>\n",
              "<table border=\"1\" class=\"dataframe\">\n",
              "  <thead>\n",
              "    <tr style=\"text-align: right;\">\n",
              "      <th></th>\n",
              "      <th>index</th>\n",
              "      <th>Year</th>\n",
              "      <th>Month</th>\n",
              "      <th>State</th>\n",
              "      <th>County</th>\n",
              "      <th>Rate</th>\n",
              "    </tr>\n",
              "  </thead>\n",
              "  <tbody>\n",
              "    <tr>\n",
              "      <th>0</th>\n",
              "      <td>287569</td>\n",
              "      <td>1990</td>\n",
              "      <td>June</td>\n",
              "      <td>Maryland</td>\n",
              "      <td>Cecil County</td>\n",
              "      <td>8.7</td>\n",
              "    </tr>\n",
              "    <tr>\n",
              "      <th>1</th>\n",
              "      <td>279127</td>\n",
              "      <td>1990</td>\n",
              "      <td>August</td>\n",
              "      <td>Maryland</td>\n",
              "      <td>Kent County</td>\n",
              "      <td>5.6</td>\n",
              "    </tr>\n",
              "    <tr>\n",
              "      <th>2</th>\n",
              "      <td>279128</td>\n",
              "      <td>1990</td>\n",
              "      <td>August</td>\n",
              "      <td>Maryland</td>\n",
              "      <td>Caroline County</td>\n",
              "      <td>3.6</td>\n",
              "    </tr>\n",
              "    <tr>\n",
              "      <th>3</th>\n",
              "      <td>279129</td>\n",
              "      <td>1990</td>\n",
              "      <td>August</td>\n",
              "      <td>Maryland</td>\n",
              "      <td>Somerset County</td>\n",
              "      <td>12.9</td>\n",
              "    </tr>\n",
              "    <tr>\n",
              "      <th>4</th>\n",
              "      <td>281927</td>\n",
              "      <td>1990</td>\n",
              "      <td>May</td>\n",
              "      <td>Maryland</td>\n",
              "      <td>Cecil County</td>\n",
              "      <td>9.1</td>\n",
              "    </tr>\n",
              "    <tr>\n",
              "      <th>...</th>\n",
              "      <td>...</td>\n",
              "      <td>...</td>\n",
              "      <td>...</td>\n",
              "      <td>...</td>\n",
              "      <td>...</td>\n",
              "      <td>...</td>\n",
              "    </tr>\n",
              "    <tr>\n",
              "      <th>7771</th>\n",
              "      <td>77024</td>\n",
              "      <td>2016</td>\n",
              "      <td>August</td>\n",
              "      <td>Maryland</td>\n",
              "      <td>Caroline County</td>\n",
              "      <td>4.8</td>\n",
              "    </tr>\n",
              "    <tr>\n",
              "      <th>7772</th>\n",
              "      <td>77023</td>\n",
              "      <td>2016</td>\n",
              "      <td>August</td>\n",
              "      <td>Maryland</td>\n",
              "      <td>Kent County</td>\n",
              "      <td>4.7</td>\n",
              "    </tr>\n",
              "    <tr>\n",
              "      <th>7773</th>\n",
              "      <td>77022</td>\n",
              "      <td>2016</td>\n",
              "      <td>August</td>\n",
              "      <td>Maryland</td>\n",
              "      <td>Harford County</td>\n",
              "      <td>4.3</td>\n",
              "    </tr>\n",
              "    <tr>\n",
              "      <th>7774</th>\n",
              "      <td>68475</td>\n",
              "      <td>2016</td>\n",
              "      <td>February</td>\n",
              "      <td>Maryland</td>\n",
              "      <td>Cecil County</td>\n",
              "      <td>5.9</td>\n",
              "    </tr>\n",
              "    <tr>\n",
              "      <th>7775</th>\n",
              "      <td>82736</td>\n",
              "      <td>2016</td>\n",
              "      <td>January</td>\n",
              "      <td>Maryland</td>\n",
              "      <td>Caroline County</td>\n",
              "      <td>5.6</td>\n",
              "    </tr>\n",
              "  </tbody>\n",
              "</table>\n",
              "<p>7776 rows × 6 columns</p>\n",
              "</div>"
            ],
            "text/plain": [
              "       index  Year     Month     State           County  Rate\n",
              "0     287569  1990      June  Maryland     Cecil County   8.7\n",
              "1     279127  1990    August  Maryland      Kent County   5.6\n",
              "2     279128  1990    August  Maryland  Caroline County   3.6\n",
              "3     279129  1990    August  Maryland  Somerset County  12.9\n",
              "4     281927  1990       May  Maryland     Cecil County   9.1\n",
              "...      ...   ...       ...       ...              ...   ...\n",
              "7771   77024  2016    August  Maryland  Caroline County   4.8\n",
              "7772   77023  2016    August  Maryland      Kent County   4.7\n",
              "7773   77022  2016    August  Maryland   Harford County   4.3\n",
              "7774   68475  2016  February  Maryland     Cecil County   5.9\n",
              "7775   82736  2016   January  Maryland  Caroline County   5.6\n",
              "\n",
              "[7776 rows x 6 columns]"
            ]
          },
          "metadata": {
            "tags": []
          },
          "execution_count": 39
        }
      ]
    },
    {
      "cell_type": "markdown",
      "metadata": {
        "id": "qoVDjp10juT2",
        "colab_type": "text"
      },
      "source": [
        "Finally, let's get rid of the column 'index.'\n",
        "\n",
        "We can do this using the **`drop.()`** method "
      ]
    },
    {
      "cell_type": "code",
      "metadata": {
        "id": "3MeHM2iAjuT2",
        "colab_type": "code",
        "colab": {
          "base_uri": "https://localhost:8080/",
          "height": 402
        },
        "outputId": "23e2c521-cc0d-4880-8a33-dd8a372f6588"
      },
      "source": [
        "md_unemployment = md_unemployment.drop(columns = ['index'])\n",
        "md_unemployment "
      ],
      "execution_count": 40,
      "outputs": [
        {
          "output_type": "execute_result",
          "data": {
            "text/html": [
              "<div>\n",
              "<style scoped>\n",
              "    .dataframe tbody tr th:only-of-type {\n",
              "        vertical-align: middle;\n",
              "    }\n",
              "\n",
              "    .dataframe tbody tr th {\n",
              "        vertical-align: top;\n",
              "    }\n",
              "\n",
              "    .dataframe thead th {\n",
              "        text-align: right;\n",
              "    }\n",
              "</style>\n",
              "<table border=\"1\" class=\"dataframe\">\n",
              "  <thead>\n",
              "    <tr style=\"text-align: right;\">\n",
              "      <th></th>\n",
              "      <th>Year</th>\n",
              "      <th>Month</th>\n",
              "      <th>State</th>\n",
              "      <th>County</th>\n",
              "      <th>Rate</th>\n",
              "    </tr>\n",
              "  </thead>\n",
              "  <tbody>\n",
              "    <tr>\n",
              "      <th>0</th>\n",
              "      <td>1990</td>\n",
              "      <td>June</td>\n",
              "      <td>Maryland</td>\n",
              "      <td>Cecil County</td>\n",
              "      <td>8.7</td>\n",
              "    </tr>\n",
              "    <tr>\n",
              "      <th>1</th>\n",
              "      <td>1990</td>\n",
              "      <td>August</td>\n",
              "      <td>Maryland</td>\n",
              "      <td>Kent County</td>\n",
              "      <td>5.6</td>\n",
              "    </tr>\n",
              "    <tr>\n",
              "      <th>2</th>\n",
              "      <td>1990</td>\n",
              "      <td>August</td>\n",
              "      <td>Maryland</td>\n",
              "      <td>Caroline County</td>\n",
              "      <td>3.6</td>\n",
              "    </tr>\n",
              "    <tr>\n",
              "      <th>3</th>\n",
              "      <td>1990</td>\n",
              "      <td>August</td>\n",
              "      <td>Maryland</td>\n",
              "      <td>Somerset County</td>\n",
              "      <td>12.9</td>\n",
              "    </tr>\n",
              "    <tr>\n",
              "      <th>4</th>\n",
              "      <td>1990</td>\n",
              "      <td>May</td>\n",
              "      <td>Maryland</td>\n",
              "      <td>Cecil County</td>\n",
              "      <td>9.1</td>\n",
              "    </tr>\n",
              "    <tr>\n",
              "      <th>...</th>\n",
              "      <td>...</td>\n",
              "      <td>...</td>\n",
              "      <td>...</td>\n",
              "      <td>...</td>\n",
              "      <td>...</td>\n",
              "    </tr>\n",
              "    <tr>\n",
              "      <th>7771</th>\n",
              "      <td>2016</td>\n",
              "      <td>August</td>\n",
              "      <td>Maryland</td>\n",
              "      <td>Caroline County</td>\n",
              "      <td>4.8</td>\n",
              "    </tr>\n",
              "    <tr>\n",
              "      <th>7772</th>\n",
              "      <td>2016</td>\n",
              "      <td>August</td>\n",
              "      <td>Maryland</td>\n",
              "      <td>Kent County</td>\n",
              "      <td>4.7</td>\n",
              "    </tr>\n",
              "    <tr>\n",
              "      <th>7773</th>\n",
              "      <td>2016</td>\n",
              "      <td>August</td>\n",
              "      <td>Maryland</td>\n",
              "      <td>Harford County</td>\n",
              "      <td>4.3</td>\n",
              "    </tr>\n",
              "    <tr>\n",
              "      <th>7774</th>\n",
              "      <td>2016</td>\n",
              "      <td>February</td>\n",
              "      <td>Maryland</td>\n",
              "      <td>Cecil County</td>\n",
              "      <td>5.9</td>\n",
              "    </tr>\n",
              "    <tr>\n",
              "      <th>7775</th>\n",
              "      <td>2016</td>\n",
              "      <td>January</td>\n",
              "      <td>Maryland</td>\n",
              "      <td>Caroline County</td>\n",
              "      <td>5.6</td>\n",
              "    </tr>\n",
              "  </tbody>\n",
              "</table>\n",
              "<p>7776 rows × 5 columns</p>\n",
              "</div>"
            ],
            "text/plain": [
              "      Year     Month     State           County  Rate\n",
              "0     1990      June  Maryland     Cecil County   8.7\n",
              "1     1990    August  Maryland      Kent County   5.6\n",
              "2     1990    August  Maryland  Caroline County   3.6\n",
              "3     1990    August  Maryland  Somerset County  12.9\n",
              "4     1990       May  Maryland     Cecil County   9.1\n",
              "...    ...       ...       ...              ...   ...\n",
              "7771  2016    August  Maryland  Caroline County   4.8\n",
              "7772  2016    August  Maryland      Kent County   4.7\n",
              "7773  2016    August  Maryland   Harford County   4.3\n",
              "7774  2016  February  Maryland     Cecil County   5.9\n",
              "7775  2016   January  Maryland  Caroline County   5.6\n",
              "\n",
              "[7776 rows x 5 columns]"
            ]
          },
          "metadata": {
            "tags": []
          },
          "execution_count": 40
        }
      ]
    },
    {
      "cell_type": "markdown",
      "metadata": {
        "id": "kw2AU_pijuT4",
        "colab_type": "text"
      },
      "source": [
        "Suppose we are only interested in a certain county in Maryland during a certain year. We can write a statement that creates a subtable based on these certain conditions using the following syntax.\n",
        "\n",
        "Run the cell below."
      ]
    },
    {
      "cell_type": "code",
      "metadata": {
        "scrolled": false,
        "id": "Tgg5nS48juT5",
        "colab_type": "code",
        "colab": {
          "base_uri": "https://localhost:8080/",
          "height": 402
        },
        "outputId": "e0372f89-63e9-401f-c7ed-65628d146d18"
      },
      "source": [
        "year = 1990\n",
        "pgc_unemployment = md_unemployment[(md_unemployment.County == \"Prince George's County\") & (md_unemployment.Year == year)]\n",
        "pgc_unemployment"
      ],
      "execution_count": 41,
      "outputs": [
        {
          "output_type": "execute_result",
          "data": {
            "text/html": [
              "<div>\n",
              "<style scoped>\n",
              "    .dataframe tbody tr th:only-of-type {\n",
              "        vertical-align: middle;\n",
              "    }\n",
              "\n",
              "    .dataframe tbody tr th {\n",
              "        vertical-align: top;\n",
              "    }\n",
              "\n",
              "    .dataframe thead th {\n",
              "        text-align: right;\n",
              "    }\n",
              "</style>\n",
              "<table border=\"1\" class=\"dataframe\">\n",
              "  <thead>\n",
              "    <tr style=\"text-align: right;\">\n",
              "      <th></th>\n",
              "      <th>Year</th>\n",
              "      <th>Month</th>\n",
              "      <th>State</th>\n",
              "      <th>County</th>\n",
              "      <th>Rate</th>\n",
              "    </tr>\n",
              "  </thead>\n",
              "  <tbody>\n",
              "    <tr>\n",
              "      <th>8</th>\n",
              "      <td>1990</td>\n",
              "      <td>May</td>\n",
              "      <td>Maryland</td>\n",
              "      <td>Prince George's County</td>\n",
              "      <td>3.2</td>\n",
              "    </tr>\n",
              "    <tr>\n",
              "      <th>19</th>\n",
              "      <td>1990</td>\n",
              "      <td>August</td>\n",
              "      <td>Maryland</td>\n",
              "      <td>Prince George's County</td>\n",
              "      <td>3.9</td>\n",
              "    </tr>\n",
              "    <tr>\n",
              "      <th>67</th>\n",
              "      <td>1990</td>\n",
              "      <td>January</td>\n",
              "      <td>Maryland</td>\n",
              "      <td>Prince George's County</td>\n",
              "      <td>2.8</td>\n",
              "    </tr>\n",
              "    <tr>\n",
              "      <th>87</th>\n",
              "      <td>1990</td>\n",
              "      <td>October</td>\n",
              "      <td>Maryland</td>\n",
              "      <td>Prince George's County</td>\n",
              "      <td>4.0</td>\n",
              "    </tr>\n",
              "    <tr>\n",
              "      <th>92</th>\n",
              "      <td>1990</td>\n",
              "      <td>February</td>\n",
              "      <td>Maryland</td>\n",
              "      <td>Prince George's County</td>\n",
              "      <td>2.7</td>\n",
              "    </tr>\n",
              "    <tr>\n",
              "      <th>140</th>\n",
              "      <td>1990</td>\n",
              "      <td>March</td>\n",
              "      <td>Maryland</td>\n",
              "      <td>Prince George's County</td>\n",
              "      <td>2.6</td>\n",
              "    </tr>\n",
              "    <tr>\n",
              "      <th>151</th>\n",
              "      <td>1990</td>\n",
              "      <td>July</td>\n",
              "      <td>Maryland</td>\n",
              "      <td>Prince George's County</td>\n",
              "      <td>3.6</td>\n",
              "    </tr>\n",
              "    <tr>\n",
              "      <th>179</th>\n",
              "      <td>1990</td>\n",
              "      <td>December</td>\n",
              "      <td>Maryland</td>\n",
              "      <td>Prince George's County</td>\n",
              "      <td>4.0</td>\n",
              "    </tr>\n",
              "    <tr>\n",
              "      <th>211</th>\n",
              "      <td>1990</td>\n",
              "      <td>November</td>\n",
              "      <td>Maryland</td>\n",
              "      <td>Prince George's County</td>\n",
              "      <td>4.2</td>\n",
              "    </tr>\n",
              "    <tr>\n",
              "      <th>225</th>\n",
              "      <td>1990</td>\n",
              "      <td>September</td>\n",
              "      <td>Maryland</td>\n",
              "      <td>Prince George's County</td>\n",
              "      <td>4.1</td>\n",
              "    </tr>\n",
              "    <tr>\n",
              "      <th>236</th>\n",
              "      <td>1990</td>\n",
              "      <td>June</td>\n",
              "      <td>Maryland</td>\n",
              "      <td>Prince George's County</td>\n",
              "      <td>3.7</td>\n",
              "    </tr>\n",
              "    <tr>\n",
              "      <th>284</th>\n",
              "      <td>1990</td>\n",
              "      <td>April</td>\n",
              "      <td>Maryland</td>\n",
              "      <td>Prince George's County</td>\n",
              "      <td>2.8</td>\n",
              "    </tr>\n",
              "  </tbody>\n",
              "</table>\n",
              "</div>"
            ],
            "text/plain": [
              "     Year      Month     State                  County  Rate\n",
              "8    1990        May  Maryland  Prince George's County   3.2\n",
              "19   1990     August  Maryland  Prince George's County   3.9\n",
              "67   1990    January  Maryland  Prince George's County   2.8\n",
              "87   1990    October  Maryland  Prince George's County   4.0\n",
              "92   1990   February  Maryland  Prince George's County   2.7\n",
              "140  1990      March  Maryland  Prince George's County   2.6\n",
              "151  1990       July  Maryland  Prince George's County   3.6\n",
              "179  1990   December  Maryland  Prince George's County   4.0\n",
              "211  1990   November  Maryland  Prince George's County   4.2\n",
              "225  1990  September  Maryland  Prince George's County   4.1\n",
              "236  1990       June  Maryland  Prince George's County   3.7\n",
              "284  1990      April  Maryland  Prince George's County   2.8"
            ]
          },
          "metadata": {
            "tags": []
          },
          "execution_count": 41
        }
      ]
    },
    {
      "cell_type": "markdown",
      "metadata": {
        "id": "Yr3qpu8vjuT6",
        "colab_type": "text"
      },
      "source": [
        "Finally, we write a function to get the averages for Prince George's County, and display it using a line chart."
      ]
    },
    {
      "cell_type": "code",
      "metadata": {
        "scrolled": false,
        "id": "BaW0qPz1juT7",
        "colab_type": "code",
        "colab": {
          "base_uri": "https://localhost:8080/",
          "height": 325
        },
        "outputId": "cad6bd40-d7de-4c13-8727-726a356e0f34"
      },
      "source": [
        "def get_averages(averages):\n",
        "    year = 1990\n",
        "    while year != 2017:\n",
        "        pgc_unemployment = md_unemployment[(md_unemployment.County == \"Prince George's County\") & (md_unemployment.Year == year)]\n",
        "        values = pgc_unemployment['Rate'].values # get values in a list\n",
        "        avg_rate = sum(values) / len(values) # calculate the average\n",
        "        averages[year] = avg_rate\n",
        "        year += 1\n",
        "\n",
        "aver_dict = {} # create a dictionary for the averages of MD unemployment over the years\n",
        "get_averages(aver_dict)\n",
        "\n",
        "\n",
        "Year = list(aver_dict.keys()) # get key for the year\n",
        "Unemployment_Rate = list(aver_dict.values()) # get average rate for each year\n",
        "\n",
        "plt.plot(Year, Unemployment_Rate)\n",
        "plt.title(\"Unemployment Rate for Prince George's County Maryland\")\n",
        "plt.xlabel('Year')\n",
        "plt.ylabel(\"Rate\")\n",
        "plt.show()"
      ],
      "execution_count": 42,
      "outputs": [
        {
          "output_type": "display_data",
          "data": {
            "image/png": "[encoded data removed]",
            "text/plain": [
              "<Figure size 432x288 with 1 Axes>"
            ]
          },
          "metadata": {
            "tags": []
          }
        }
      ]
    },
    {
      "cell_type": "markdown",
      "metadata": {
        "id": "ygE31LemjuT8",
        "colab_type": "text"
      },
      "source": [
        "**Question:** Create a line chart that shows the unemployment for **all counties** in Maryland from 1990 to 2016. Use the `md_unemployment` data set."
      ]
    },
    {
      "cell_type": "code",
      "metadata": {
        "id": "fzFW0LrSjuT9",
        "colab_type": "code",
        "colab": {
          "base_uri": "https://localhost:8080/",
          "height": 325
        },
        "outputId": "3b2e98f9-cbec-4af9-c042-6a9d212863ca"
      },
      "source": [
        "\n",
        "\n",
        "def get_averages(averages):\n",
        "    Maryland_unemployment = county_unemployment[county_unemployment.State == 'Maryland']\n",
        "    Maryland_unemployment = md_unemployment.filter(items = ['Year','Month', \"State\", 'County', 'Rate'])\n",
        "    year = 1990\n",
        "    while year != 2017:\n",
        "        MD_unemployment = md_unemployment[(md_unemployment.State == \"Maryland\") & (md_unemployment.Year == year)]\n",
        "        values = MD_unemployment['Rate'].values # get values in a list\n",
        "        avg_rate = sum(values) / len(values) # calculate the average\n",
        "        averages[year] = avg_rate\n",
        "        year += 1\n",
        "\n",
        "aver_dict = {} # create a dictionary for the averages of MD unemployment over the years\n",
        "get_averages(aver_dict)\n",
        "\n",
        "\n",
        "Year = list(aver_dict.keys()) # get key for the year\n",
        "Unemployment_Rate = list(aver_dict.values()) # get average rate for each year\n",
        "\n",
        "plt.plot(Year, Unemployment_Rate)\n",
        "plt.title(\"Unemployment Rate for all counties of Maryland\")\n",
        "plt.xlabel('Year')\n",
        "plt.ylabel(\"Rate\")\n",
        "plt.show()\n"
      ],
      "execution_count": 47,
      "outputs": [
        {
          "output_type": "display_data",
          "data": {
            "image/png": "[encoded data removed]",
            "text/plain": [
              "<Figure size 432x288 with 1 Axes>"
            ]
          },
          "metadata": {
            "tags": []
          }
        }
      ]
    },
    {
      "cell_type": "markdown",
      "metadata": {
        "id": "iN1DZ4hOjuT-",
        "colab_type": "text"
      },
      "source": [
        "**Question:** Compare the line charts of Prince George's County and Maryland to one another. Are there similarities ? Are there differences ?\n",
        "Fill your answer in below."
      ]
    },
    {
      "cell_type": "code",
      "metadata": {
        "id": "2Uf4ht2ZjuT_",
        "colab_type": "code",
        "colab": {
          "base_uri": "https://localhost:8080/",
          "height": 69
        },
        "outputId": "be57ddd2-7d7e-4b35-ee9d-1e754ab0d562"
      },
      "source": [
        "explanation1 = 'In general, the averages of all the counties are much higher then that of Prince George County. They both had a significant dip in unemployment in the year 2000 and 2005 and a tremendous increase after 2005. Although they follow a similar trend, Prince George is significantly lower than the other counties. '\n",
        "explanation1"
      ],
      "execution_count": 48,
      "outputs": [
        {
          "output_type": "execute_result",
          "data": {
            "application/vnd.google.colaboratory.intrinsic+json": {
              "type": "string"
            },
            "text/plain": [
              "'In general, the averages of all the counties are much higher then that of Prince George County. They both had a significant dip in unemployment in the year 2000 and 2005 and a tremendous increase after 2005. Although they follow a similar trend, Prince George is significantly lower than the other counties. '"
            ]
          },
          "metadata": {
            "tags": []
          },
          "execution_count": 48
        }
      ]
    },
    {
      "cell_type": "markdown",
      "metadata": {
        "id": "KCYvrXr5juUD",
        "colab_type": "text"
      },
      "source": [
        "**Question:** Why do you suppose that the years between 2005 and 2010 saw a significant increase in the unemployment rate? Fill your answer in below."
      ]
    },
    {
      "cell_type": "code",
      "metadata": {
        "id": "MGl07ugHjuUD",
        "colab_type": "code",
        "colab": {}
      },
      "source": [
        "explanation2 = 'I would think it was due to the recession that hit in 2008 and left most of country without jobs'\n",
        "explanation2"
      ],
      "execution_count": null,
      "outputs": []
    },
    {
      "cell_type": "markdown",
      "metadata": {
        "id": "yzjWl-o_juUF",
        "colab_type": "text"
      },
      "source": [
        "# 3. Unemployment\n",
        "\n",
        "The Federal Reserve Bank of St. Louis publishes data about jobs in the US. Below, we've loaded data on unemployment in the United States. There are many ways of defining unemployment, and our dataset includes two notions of the unemployment rate:\n",
        "\n",
        "Among people who are able to work and are looking for a full-time job, the percentage who can't find a job. This is called the Non-Employment Index, or NEI.\n",
        "Among people who are able to work and are looking for a full-time job, the percentage who can't find any job or are only working at a part-time job. The latter group is called \"Part-Time for Economic Reasons\", so the acronym for this index is NEI-PTER. (Economists are great at marketing.)\n",
        "\n",
        "The source data can be found at this link.\n",
        "\n",
        "**Question 1:** The data are in a CSV file called `unemployment.csv`.  Load that file into a table called `unemployment`."
      ]
    },
    {
      "cell_type": "code",
      "metadata": {
        "id": "DJOyAjVXjuUG",
        "colab_type": "code",
        "colab": {
          "base_uri": "https://localhost:8080/",
          "height": 402
        },
        "outputId": "7e7f852b-8cea-464d-c287-92db79e8765c"
      },
      "source": [
        "unemployment = pd.read_csv(\"unemployment.csv\")\n",
        "unemployment"
      ],
      "execution_count": 49,
      "outputs": [
        {
          "output_type": "execute_result",
          "data": {
            "text/html": [
              "<div>\n",
              "<style scoped>\n",
              "    .dataframe tbody tr th:only-of-type {\n",
              "        vertical-align: middle;\n",
              "    }\n",
              "\n",
              "    .dataframe tbody tr th {\n",
              "        vertical-align: top;\n",
              "    }\n",
              "\n",
              "    .dataframe thead th {\n",
              "        text-align: right;\n",
              "    }\n",
              "</style>\n",
              "<table border=\"1\" class=\"dataframe\">\n",
              "  <thead>\n",
              "    <tr style=\"text-align: right;\">\n",
              "      <th></th>\n",
              "      <th>Date</th>\n",
              "      <th>NEI</th>\n",
              "      <th>NEI-PTER</th>\n",
              "    </tr>\n",
              "  </thead>\n",
              "  <tbody>\n",
              "    <tr>\n",
              "      <th>0</th>\n",
              "      <td>1994-01-01</td>\n",
              "      <td>10.0974</td>\n",
              "      <td>11.1720</td>\n",
              "    </tr>\n",
              "    <tr>\n",
              "      <th>1</th>\n",
              "      <td>1994-04-01</td>\n",
              "      <td>9.6239</td>\n",
              "      <td>10.7883</td>\n",
              "    </tr>\n",
              "    <tr>\n",
              "      <th>2</th>\n",
              "      <td>1994-07-01</td>\n",
              "      <td>9.3276</td>\n",
              "      <td>10.4831</td>\n",
              "    </tr>\n",
              "    <tr>\n",
              "      <th>3</th>\n",
              "      <td>1994-10-01</td>\n",
              "      <td>9.1071</td>\n",
              "      <td>10.2361</td>\n",
              "    </tr>\n",
              "    <tr>\n",
              "      <th>4</th>\n",
              "      <td>1995-01-01</td>\n",
              "      <td>8.9693</td>\n",
              "      <td>10.1832</td>\n",
              "    </tr>\n",
              "    <tr>\n",
              "      <th>...</th>\n",
              "      <td>...</td>\n",
              "      <td>...</td>\n",
              "      <td>...</td>\n",
              "    </tr>\n",
              "    <tr>\n",
              "      <th>85</th>\n",
              "      <td>2015-04-01</td>\n",
              "      <td>8.8386</td>\n",
              "      <td>10.1483</td>\n",
              "    </tr>\n",
              "    <tr>\n",
              "      <th>86</th>\n",
              "      <td>2015-07-01</td>\n",
              "      <td>8.6847</td>\n",
              "      <td>9.9166</td>\n",
              "    </tr>\n",
              "    <tr>\n",
              "      <th>87</th>\n",
              "      <td>2015-10-01</td>\n",
              "      <td>8.6650</td>\n",
              "      <td>9.8385</td>\n",
              "    </tr>\n",
              "    <tr>\n",
              "      <th>88</th>\n",
              "      <td>2016-01-01</td>\n",
              "      <td>8.4330</td>\n",
              "      <td>9.6174</td>\n",
              "    </tr>\n",
              "    <tr>\n",
              "      <th>89</th>\n",
              "      <td>2016-04-01</td>\n",
              "      <td>8.5400</td>\n",
              "      <td>9.7146</td>\n",
              "    </tr>\n",
              "  </tbody>\n",
              "</table>\n",
              "<p>90 rows × 3 columns</p>\n",
              "</div>"
            ],
            "text/plain": [
              "          Date      NEI  NEI-PTER\n",
              "0   1994-01-01  10.0974   11.1720\n",
              "1   1994-04-01   9.6239   10.7883\n",
              "2   1994-07-01   9.3276   10.4831\n",
              "3   1994-10-01   9.1071   10.2361\n",
              "4   1995-01-01   8.9693   10.1832\n",
              "..         ...      ...       ...\n",
              "85  2015-04-01   8.8386   10.1483\n",
              "86  2015-07-01   8.6847    9.9166\n",
              "87  2015-10-01   8.6650    9.8385\n",
              "88  2016-01-01   8.4330    9.6174\n",
              "89  2016-04-01   8.5400    9.7146\n",
              "\n",
              "[90 rows x 3 columns]"
            ]
          },
          "metadata": {
            "tags": []
          },
          "execution_count": 49
        }
      ]
    },
    {
      "cell_type": "markdown",
      "metadata": {
        "id": "HpraO191juUI",
        "colab_type": "text"
      },
      "source": [
        "**Question 2:** Sort the data in descending order by NEI, naming the sorted table `by_nei`.  Create another table called `by_nei_pter` that's sorted in descending order by NEI-PTER instead.\n",
        "\n",
        "Reference this article for help: https://cmdlinetips.com/2018/02/how-to-sort-pandas-dataframe-by-columns-and-row/"
      ]
    },
    {
      "cell_type": "code",
      "metadata": {
        "id": "ziJU9rKK19kI",
        "colab_type": "code",
        "colab": {}
      },
      "source": [
        ""
      ],
      "execution_count": null,
      "outputs": []
    },
    {
      "cell_type": "code",
      "metadata": {
        "id": "GK31IDATjuUI",
        "colab_type": "code",
        "colab": {
          "base_uri": "https://localhost:8080/",
          "height": 402
        },
        "outputId": "ac33c4fc-b7b5-4919-8264-3fed81d20ea6"
      },
      "source": [
        "by_nei = unemployment.sort_values('NEI', ascending = False)\n",
        "by_nei_pter = unemployment.sort_values('NEI-PTER', ascending = False)\n",
        "by_nei_pter\n"
      ],
      "execution_count": 52,
      "outputs": [
        {
          "output_type": "execute_result",
          "data": {
            "text/html": [
              "<div>\n",
              "<style scoped>\n",
              "    .dataframe tbody tr th:only-of-type {\n",
              "        vertical-align: middle;\n",
              "    }\n",
              "\n",
              "    .dataframe tbody tr th {\n",
              "        vertical-align: top;\n",
              "    }\n",
              "\n",
              "    .dataframe thead th {\n",
              "        text-align: right;\n",
              "    }\n",
              "</style>\n",
              "<table border=\"1\" class=\"dataframe\">\n",
              "  <thead>\n",
              "    <tr style=\"text-align: right;\">\n",
              "      <th></th>\n",
              "      <th>Date</th>\n",
              "      <th>NEI</th>\n",
              "      <th>NEI-PTER</th>\n",
              "    </tr>\n",
              "  </thead>\n",
              "  <tbody>\n",
              "    <tr>\n",
              "      <th>63</th>\n",
              "      <td>2009-10-01</td>\n",
              "      <td>10.9698</td>\n",
              "      <td>12.8557</td>\n",
              "    </tr>\n",
              "    <tr>\n",
              "      <th>62</th>\n",
              "      <td>2009-07-01</td>\n",
              "      <td>10.8089</td>\n",
              "      <td>12.7404</td>\n",
              "    </tr>\n",
              "    <tr>\n",
              "      <th>64</th>\n",
              "      <td>2010-01-01</td>\n",
              "      <td>10.9054</td>\n",
              "      <td>12.7311</td>\n",
              "    </tr>\n",
              "    <tr>\n",
              "      <th>65</th>\n",
              "      <td>2010-04-01</td>\n",
              "      <td>10.6597</td>\n",
              "      <td>12.5664</td>\n",
              "    </tr>\n",
              "    <tr>\n",
              "      <th>61</th>\n",
              "      <td>2009-04-01</td>\n",
              "      <td>10.7082</td>\n",
              "      <td>12.5497</td>\n",
              "    </tr>\n",
              "    <tr>\n",
              "      <th>...</th>\n",
              "      <td>...</td>\n",
              "      <td>...</td>\n",
              "      <td>...</td>\n",
              "    </tr>\n",
              "    <tr>\n",
              "      <th>28</th>\n",
              "      <td>2001-01-01</td>\n",
              "      <td>7.7570</td>\n",
              "      <td>8.4969</td>\n",
              "    </tr>\n",
              "    <tr>\n",
              "      <th>26</th>\n",
              "      <td>2000-07-01</td>\n",
              "      <td>7.6915</td>\n",
              "      <td>8.4458</td>\n",
              "    </tr>\n",
              "    <tr>\n",
              "      <th>25</th>\n",
              "      <td>2000-04-01</td>\n",
              "      <td>7.6754</td>\n",
              "      <td>8.4199</td>\n",
              "    </tr>\n",
              "    <tr>\n",
              "      <th>27</th>\n",
              "      <td>2000-10-01</td>\n",
              "      <td>7.6769</td>\n",
              "      <td>8.4192</td>\n",
              "    </tr>\n",
              "    <tr>\n",
              "      <th>24</th>\n",
              "      <td>2000-01-01</td>\n",
              "      <td>7.6128</td>\n",
              "      <td>8.3379</td>\n",
              "    </tr>\n",
              "  </tbody>\n",
              "</table>\n",
              "<p>90 rows × 3 columns</p>\n",
              "</div>"
            ],
            "text/plain": [
              "          Date      NEI  NEI-PTER\n",
              "63  2009-10-01  10.9698   12.8557\n",
              "62  2009-07-01  10.8089   12.7404\n",
              "64  2010-01-01  10.9054   12.7311\n",
              "65  2010-04-01  10.6597   12.5664\n",
              "61  2009-04-01  10.7082   12.5497\n",
              "..         ...      ...       ...\n",
              "28  2001-01-01   7.7570    8.4969\n",
              "26  2000-07-01   7.6915    8.4458\n",
              "25  2000-04-01   7.6754    8.4199\n",
              "27  2000-10-01   7.6769    8.4192\n",
              "24  2000-01-01   7.6128    8.3379\n",
              "\n",
              "[90 rows x 3 columns]"
            ]
          },
          "metadata": {
            "tags": []
          },
          "execution_count": 52
        }
      ]
    },
    {
      "cell_type": "markdown",
      "metadata": {
        "id": "AHKLHrihjuUK",
        "colab_type": "text"
      },
      "source": [
        "**Question 3:** Create a table containing the data for the 10 quarters when NEI was greatest.  Call that table `greatest_nei`.\n",
        "\n",
        "`greatest_nei` should be sorted in descending order of `NEI`. Note that each row of `unemployment` represents a quarter."
      ]
    },
    {
      "cell_type": "code",
      "metadata": {
        "id": "21_OTHAhjuUK",
        "colab_type": "code",
        "colab": {
          "base_uri": "https://localhost:8080/",
          "height": 343
        },
        "outputId": "fd4f2f95-6616-4dee-8139-137cc6f1caca"
      },
      "source": [
        "\n",
        "greatest_nei = by_nei.reset_index()\n",
        "greatest_nei = greatest_nei.iloc[0:10, 2:3]\n",
        "greatest_nei"
      ],
      "execution_count": 74,
      "outputs": [
        {
          "output_type": "execute_result",
          "data": {
            "text/html": [
              "<div>\n",
              "<style scoped>\n",
              "    .dataframe tbody tr th:only-of-type {\n",
              "        vertical-align: middle;\n",
              "    }\n",
              "\n",
              "    .dataframe tbody tr th {\n",
              "        vertical-align: top;\n",
              "    }\n",
              "\n",
              "    .dataframe thead th {\n",
              "        text-align: right;\n",
              "    }\n",
              "</style>\n",
              "<table border=\"1\" class=\"dataframe\">\n",
              "  <thead>\n",
              "    <tr style=\"text-align: right;\">\n",
              "      <th></th>\n",
              "      <th>NEI</th>\n",
              "    </tr>\n",
              "  </thead>\n",
              "  <tbody>\n",
              "    <tr>\n",
              "      <th>0</th>\n",
              "      <td>10.9698</td>\n",
              "    </tr>\n",
              "    <tr>\n",
              "      <th>1</th>\n",
              "      <td>10.9054</td>\n",
              "    </tr>\n",
              "    <tr>\n",
              "      <th>2</th>\n",
              "      <td>10.8089</td>\n",
              "    </tr>\n",
              "    <tr>\n",
              "      <th>3</th>\n",
              "      <td>10.7082</td>\n",
              "    </tr>\n",
              "    <tr>\n",
              "      <th>4</th>\n",
              "      <td>10.6597</td>\n",
              "    </tr>\n",
              "    <tr>\n",
              "      <th>5</th>\n",
              "      <td>10.5856</td>\n",
              "    </tr>\n",
              "    <tr>\n",
              "      <th>6</th>\n",
              "      <td>10.5521</td>\n",
              "    </tr>\n",
              "    <tr>\n",
              "      <th>7</th>\n",
              "      <td>10.5024</td>\n",
              "    </tr>\n",
              "    <tr>\n",
              "      <th>8</th>\n",
              "      <td>10.4856</td>\n",
              "    </tr>\n",
              "    <tr>\n",
              "      <th>9</th>\n",
              "      <td>10.4409</td>\n",
              "    </tr>\n",
              "  </tbody>\n",
              "</table>\n",
              "</div>"
            ],
            "text/plain": [
              "       NEI\n",
              "0  10.9698\n",
              "1  10.9054\n",
              "2  10.8089\n",
              "3  10.7082\n",
              "4  10.6597\n",
              "5  10.5856\n",
              "6  10.5521\n",
              "7  10.5024\n",
              "8  10.4856\n",
              "9  10.4409"
            ]
          },
          "metadata": {
            "tags": []
          },
          "execution_count": 74
        }
      ]
    },
    {
      "cell_type": "markdown",
      "metadata": {
        "id": "v2ecbs0DjuUM",
        "colab_type": "text"
      },
      "source": [
        "**Question 4:** It's believed that many people became PTER (recall: \"Part-Time for Economic Reasons\") in the \"Great Recession\" of 2008-2009.  NEI-PTER is the percentage of people who are unemployed (and counted in the NEI) plus the percentage of people who are PTER.  Compute an array containing the percentage of people who were PTER in each quarter.  (The first element of the array should correspond to the first row of `unemployment`, and so on.)\n",
        "\n",
        "*Note:* Use the original `unemployment` table for this."
      ]
    },
    {
      "cell_type": "code",
      "metadata": {
        "id": "bw6p7nx9juUM",
        "colab_type": "code",
        "colab": {}
      },
      "source": [
        ""
      ],
      "execution_count": 15,
      "outputs": []
    },
    {
      "cell_type": "markdown",
      "metadata": {
        "id": "g_IBgYaYjuUP",
        "colab_type": "text"
      },
      "source": [
        "**Question 5:** Add `pter` as a column to `unemployment` (named \"PTER\") and sort the resulting table by that column in descending order.  Call the table `by_pter`."
      ]
    },
    {
      "cell_type": "markdown",
      "metadata": {
        "id": "n-ebU33pjuUP",
        "colab_type": "text"
      },
      "source": [
        "\n",
        "by_pter = []\n",
        "unemployment['PTER']= by_pter\n",
        "unemployment\n"
      ]
    },
    {
      "cell_type": "code",
      "metadata": {
        "id": "1qNs4iMcBKc4",
        "colab_type": "code",
        "colab": {
          "base_uri": "https://localhost:8080/",
          "height": 370
        },
        "outputId": "1e7b6d0a-1c6f-4de8-8d04-d64231f0dd19"
      },
      "source": [
        "unemployment = pd.read_csv(\"unemployment.csv\")\n",
        "# Convert the dictionary into DataFrame \n",
        "df = pd.DataFrame(unemployment) \n",
        "  \n",
        "# Using 'Address' as the column name and equating it to the list \n",
        "df2 = df.assign(address = ['Delhi', 'Bangalore', 'Chennai', 'Patna']) \n",
        "   \n",
        "# Observe the result \n",
        "df2 \n"
      ],
      "execution_count": 81,
      "outputs": [
        {
          "output_type": "error",
          "ename": "ValueError",
          "evalue": "ignored",
          "traceback": [
            "\u001b[0;31m---------------------------------------------------------------------------\u001b[0m",
            "\u001b[0;31mValueError\u001b[0m                                Traceback (most recent call last)",
            "\u001b[0;32m<ipython-input-81-986d4e0eb16e>\u001b[0m in \u001b[0;36m<module>\u001b[0;34m()\u001b[0m\n\u001b[1;32m      4\u001b[0m \u001b[0;34m\u001b[0m\u001b[0m\n\u001b[1;32m      5\u001b[0m \u001b[0;31m# Using 'Address' as the column name and equating it to the list\u001b[0m\u001b[0;34m\u001b[0m\u001b[0;34m\u001b[0m\u001b[0;34m\u001b[0m\u001b[0m\n\u001b[0;32m----> 6\u001b[0;31m \u001b[0mdf2\u001b[0m \u001b[0;34m=\u001b[0m \u001b[0mdf\u001b[0m\u001b[0;34m.\u001b[0m\u001b[0massign\u001b[0m\u001b[0;34m(\u001b[0m\u001b[0maddress\u001b[0m \u001b[0;34m=\u001b[0m \u001b[0;34m[\u001b[0m\u001b[0;34m'Delhi'\u001b[0m\u001b[0;34m,\u001b[0m \u001b[0;34m'Bangalore'\u001b[0m\u001b[0;34m,\u001b[0m \u001b[0;34m'Chennai'\u001b[0m\u001b[0;34m,\u001b[0m \u001b[0;34m'Patna'\u001b[0m\u001b[0;34m]\u001b[0m\u001b[0;34m)\u001b[0m\u001b[0;34m\u001b[0m\u001b[0;34m\u001b[0m\u001b[0m\n\u001b[0m\u001b[1;32m      7\u001b[0m \u001b[0;34m\u001b[0m\u001b[0m\n\u001b[1;32m      8\u001b[0m \u001b[0;31m# Observe the result\u001b[0m\u001b[0;34m\u001b[0m\u001b[0;34m\u001b[0m\u001b[0;34m\u001b[0m\u001b[0m\n",
            "\u001b[0;32m/usr/local/lib/python3.6/dist-packages/pandas/core/frame.py\u001b[0m in \u001b[0;36massign\u001b[0;34m(self, **kwargs)\u001b[0m\n\u001b[1;32m   3565\u001b[0m \u001b[0;34m\u001b[0m\u001b[0m\n\u001b[1;32m   3566\u001b[0m         \u001b[0;32mfor\u001b[0m \u001b[0mk\u001b[0m\u001b[0;34m,\u001b[0m \u001b[0mv\u001b[0m \u001b[0;32min\u001b[0m \u001b[0mkwargs\u001b[0m\u001b[0;34m.\u001b[0m\u001b[0mitems\u001b[0m\u001b[0;34m(\u001b[0m\u001b[0;34m)\u001b[0m\u001b[0;34m:\u001b[0m\u001b[0;34m\u001b[0m\u001b[0;34m\u001b[0m\u001b[0m\n\u001b[0;32m-> 3567\u001b[0;31m             \u001b[0mdata\u001b[0m\u001b[0;34m[\u001b[0m\u001b[0mk\u001b[0m\u001b[0;34m]\u001b[0m \u001b[0;34m=\u001b[0m \u001b[0mcom\u001b[0m\u001b[0;34m.\u001b[0m\u001b[0mapply_if_callable\u001b[0m\u001b[0;34m(\u001b[0m\u001b[0mv\u001b[0m\u001b[0;34m,\u001b[0m \u001b[0mdata\u001b[0m\u001b[0;34m)\u001b[0m\u001b[0;34m\u001b[0m\u001b[0;34m\u001b[0m\u001b[0m\n\u001b[0m\u001b[1;32m   3568\u001b[0m         \u001b[0;32mreturn\u001b[0m \u001b[0mdata\u001b[0m\u001b[0;34m\u001b[0m\u001b[0;34m\u001b[0m\u001b[0m\n\u001b[1;32m   3569\u001b[0m \u001b[0;34m\u001b[0m\u001b[0m\n",
            "\u001b[0;32m/usr/local/lib/python3.6/dist-packages/pandas/core/frame.py\u001b[0m in \u001b[0;36m__setitem__\u001b[0;34m(self, key, value)\u001b[0m\n\u001b[1;32m   2936\u001b[0m         \u001b[0;32melse\u001b[0m\u001b[0;34m:\u001b[0m\u001b[0;34m\u001b[0m\u001b[0;34m\u001b[0m\u001b[0m\n\u001b[1;32m   2937\u001b[0m             \u001b[0;31m# set column\u001b[0m\u001b[0;34m\u001b[0m\u001b[0;34m\u001b[0m\u001b[0;34m\u001b[0m\u001b[0m\n\u001b[0;32m-> 2938\u001b[0;31m             \u001b[0mself\u001b[0m\u001b[0;34m.\u001b[0m\u001b[0m_set_item\u001b[0m\u001b[0;34m(\u001b[0m\u001b[0mkey\u001b[0m\u001b[0;34m,\u001b[0m \u001b[0mvalue\u001b[0m\u001b[0;34m)\u001b[0m\u001b[0;34m\u001b[0m\u001b[0;34m\u001b[0m\u001b[0m\n\u001b[0m\u001b[1;32m   2939\u001b[0m \u001b[0;34m\u001b[0m\u001b[0m\n\u001b[1;32m   2940\u001b[0m     \u001b[0;32mdef\u001b[0m \u001b[0m_setitem_slice\u001b[0m\u001b[0;34m(\u001b[0m\u001b[0mself\u001b[0m\u001b[0;34m,\u001b[0m \u001b[0mkey\u001b[0m\u001b[0;34m,\u001b[0m \u001b[0mvalue\u001b[0m\u001b[0;34m)\u001b[0m\u001b[0;34m:\u001b[0m\u001b[0;34m\u001b[0m\u001b[0;34m\u001b[0m\u001b[0m\n",
            "\u001b[0;32m/usr/local/lib/python3.6/dist-packages/pandas/core/frame.py\u001b[0m in \u001b[0;36m_set_item\u001b[0;34m(self, key, value)\u001b[0m\n\u001b[1;32m   2998\u001b[0m \u001b[0;34m\u001b[0m\u001b[0m\n\u001b[1;32m   2999\u001b[0m         \u001b[0mself\u001b[0m\u001b[0;34m.\u001b[0m\u001b[0m_ensure_valid_index\u001b[0m\u001b[0;34m(\u001b[0m\u001b[0mvalue\u001b[0m\u001b[0;34m)\u001b[0m\u001b[0;34m\u001b[0m\u001b[0;34m\u001b[0m\u001b[0m\n\u001b[0;32m-> 3000\u001b[0;31m         \u001b[0mvalue\u001b[0m \u001b[0;34m=\u001b[0m \u001b[0mself\u001b[0m\u001b[0;34m.\u001b[0m\u001b[0m_sanitize_column\u001b[0m\u001b[0;34m(\u001b[0m\u001b[0mkey\u001b[0m\u001b[0;34m,\u001b[0m \u001b[0mvalue\u001b[0m\u001b[0;34m)\u001b[0m\u001b[0;34m\u001b[0m\u001b[0;34m\u001b[0m\u001b[0m\n\u001b[0m\u001b[1;32m   3001\u001b[0m         \u001b[0mNDFrame\u001b[0m\u001b[0;34m.\u001b[0m\u001b[0m_set_item\u001b[0m\u001b[0;34m(\u001b[0m\u001b[0mself\u001b[0m\u001b[0;34m,\u001b[0m \u001b[0mkey\u001b[0m\u001b[0;34m,\u001b[0m \u001b[0mvalue\u001b[0m\u001b[0;34m)\u001b[0m\u001b[0;34m\u001b[0m\u001b[0;34m\u001b[0m\u001b[0m\n\u001b[1;32m   3002\u001b[0m \u001b[0;34m\u001b[0m\u001b[0m\n",
            "\u001b[0;32m/usr/local/lib/python3.6/dist-packages/pandas/core/frame.py\u001b[0m in \u001b[0;36m_sanitize_column\u001b[0;34m(self, key, value, broadcast)\u001b[0m\n\u001b[1;32m   3634\u001b[0m \u001b[0;34m\u001b[0m\u001b[0m\n\u001b[1;32m   3635\u001b[0m             \u001b[0;31m# turn me into an ndarray\u001b[0m\u001b[0;34m\u001b[0m\u001b[0;34m\u001b[0m\u001b[0;34m\u001b[0m\u001b[0m\n\u001b[0;32m-> 3636\u001b[0;31m             \u001b[0mvalue\u001b[0m \u001b[0;34m=\u001b[0m \u001b[0msanitize_index\u001b[0m\u001b[0;34m(\u001b[0m\u001b[0mvalue\u001b[0m\u001b[0;34m,\u001b[0m \u001b[0mself\u001b[0m\u001b[0;34m.\u001b[0m\u001b[0mindex\u001b[0m\u001b[0;34m,\u001b[0m \u001b[0mcopy\u001b[0m\u001b[0;34m=\u001b[0m\u001b[0;32mFalse\u001b[0m\u001b[0;34m)\u001b[0m\u001b[0;34m\u001b[0m\u001b[0;34m\u001b[0m\u001b[0m\n\u001b[0m\u001b[1;32m   3637\u001b[0m             \u001b[0;32mif\u001b[0m \u001b[0;32mnot\u001b[0m \u001b[0misinstance\u001b[0m\u001b[0;34m(\u001b[0m\u001b[0mvalue\u001b[0m\u001b[0;34m,\u001b[0m \u001b[0;34m(\u001b[0m\u001b[0mnp\u001b[0m\u001b[0;34m.\u001b[0m\u001b[0mndarray\u001b[0m\u001b[0;34m,\u001b[0m \u001b[0mIndex\u001b[0m\u001b[0;34m)\u001b[0m\u001b[0;34m)\u001b[0m\u001b[0;34m:\u001b[0m\u001b[0;34m\u001b[0m\u001b[0;34m\u001b[0m\u001b[0m\n\u001b[1;32m   3638\u001b[0m                 \u001b[0;32mif\u001b[0m \u001b[0misinstance\u001b[0m\u001b[0;34m(\u001b[0m\u001b[0mvalue\u001b[0m\u001b[0;34m,\u001b[0m \u001b[0mlist\u001b[0m\u001b[0;34m)\u001b[0m \u001b[0;32mand\u001b[0m \u001b[0mlen\u001b[0m\u001b[0;34m(\u001b[0m\u001b[0mvalue\u001b[0m\u001b[0;34m)\u001b[0m \u001b[0;34m>\u001b[0m \u001b[0;36m0\u001b[0m\u001b[0;34m:\u001b[0m\u001b[0;34m\u001b[0m\u001b[0;34m\u001b[0m\u001b[0m\n",
            "\u001b[0;32m/usr/local/lib/python3.6/dist-packages/pandas/core/internals/construction.py\u001b[0m in \u001b[0;36msanitize_index\u001b[0;34m(data, index, copy)\u001b[0m\n\u001b[1;32m    609\u001b[0m \u001b[0;34m\u001b[0m\u001b[0m\n\u001b[1;32m    610\u001b[0m     \u001b[0;32mif\u001b[0m \u001b[0mlen\u001b[0m\u001b[0;34m(\u001b[0m\u001b[0mdata\u001b[0m\u001b[0;34m)\u001b[0m \u001b[0;34m!=\u001b[0m \u001b[0mlen\u001b[0m\u001b[0;34m(\u001b[0m\u001b[0mindex\u001b[0m\u001b[0;34m)\u001b[0m\u001b[0;34m:\u001b[0m\u001b[0;34m\u001b[0m\u001b[0;34m\u001b[0m\u001b[0m\n\u001b[0;32m--> 611\u001b[0;31m         \u001b[0;32mraise\u001b[0m \u001b[0mValueError\u001b[0m\u001b[0;34m(\u001b[0m\u001b[0;34m\"Length of values does not match length of index\"\u001b[0m\u001b[0;34m)\u001b[0m\u001b[0;34m\u001b[0m\u001b[0;34m\u001b[0m\u001b[0m\n\u001b[0m\u001b[1;32m    612\u001b[0m \u001b[0;34m\u001b[0m\u001b[0m\n\u001b[1;32m    613\u001b[0m     \u001b[0;32mif\u001b[0m \u001b[0misinstance\u001b[0m\u001b[0;34m(\u001b[0m\u001b[0mdata\u001b[0m\u001b[0;34m,\u001b[0m \u001b[0mABCIndexClass\u001b[0m\u001b[0;34m)\u001b[0m \u001b[0;32mand\u001b[0m \u001b[0;32mnot\u001b[0m \u001b[0mcopy\u001b[0m\u001b[0;34m:\u001b[0m\u001b[0;34m\u001b[0m\u001b[0;34m\u001b[0m\u001b[0m\n",
            "\u001b[0;31mValueError\u001b[0m: Length of values does not match length of index"
          ]
        }
      ]
    },
    {
      "cell_type": "markdown",
      "metadata": {
        "id": "hT-1Q4bpjuUQ",
        "colab_type": "text"
      },
      "source": [
        "**Question 6:** \n",
        "\n",
        "Create a line plot of the PTER over time. \n",
        "\n",
        "To do this, create a new table called `pter_over_time` that adds the `year` array and the `pter` array to the `unemployment` table. Label these columns `Year` and `PTER`. Then, generate a line plot using one of the table methods you've learned in class.\n",
        "\n",
        "Helpful Link: https://pandas.pydata.org/pandas-docs/stable/reference/api/pandas.DataFrame.plot.line.html"
      ]
    },
    {
      "cell_type": "code",
      "metadata": {
        "id": "k3hXx25cjuUQ",
        "colab_type": "code",
        "colab": {}
      },
      "source": [
        ""
      ],
      "execution_count": 15,
      "outputs": []
    },
    {
      "cell_type": "markdown",
      "metadata": {
        "id": "et_gZkjujuUR",
        "colab_type": "text"
      },
      "source": [
        "**Question 7:** Were PTER rates high during the Great Recession (that is to say, were PTER rates particularly high in the years 2008 through 2011)? Assign highPTER to True if you think PTER rates were high in this period, and False if you think they weren't."
      ]
    },
    {
      "cell_type": "code",
      "metadata": {
        "id": "jLZnChZSjuUS",
        "colab_type": "code",
        "colab": {}
      },
      "source": [
        ""
      ],
      "execution_count": 15,
      "outputs": []
    },
    {
      "cell_type": "markdown",
      "metadata": {
        "id": "30eyhhTtjuUT",
        "colab_type": "text"
      },
      "source": [
        "# 4. Scatter Plots \n",
        "\n",
        "A **scatter plot** depicts the relationship between two variables on a rectangular coordinate system, where each axis corresponds to one variable. Scatter plots are used for both quantitative and categorical data.\n",
        "\n",
        "**NOTE:** Helpful rerefence: https://matplotlib.org/3.3.0/api/_as_gen/matplotlib.pyplot.scatter.html\n",
        "\n",
        "We'll use the scatter plot for quantitative data right now.\n",
        "\n",
        "The data set we'll use is the titanic."
      ]
    },
    {
      "cell_type": "code",
      "metadata": {
        "id": "9M43LA6ojuUT",
        "colab_type": "code",
        "colab": {
          "base_uri": "https://localhost:8080/",
          "height": 252
        },
        "outputId": "1a123e6d-0f49-459d-e973-0232cebfdac5"
      },
      "source": [
        "titanic = pd.read_csv(\"titanic.csv\")\n",
        "print(titanic.shape)\n",
        "print(titanic.dtypes)"
      ],
      "execution_count": 82,
      "outputs": [
        {
          "output_type": "stream",
          "text": [
            "(891, 12)\n",
            "PassengerId      int64\n",
            "Survived         int64\n",
            "Pclass           int64\n",
            "Name            object\n",
            "Sex             object\n",
            "Age            float64\n",
            "SibSp            int64\n",
            "Parch            int64\n",
            "Ticket          object\n",
            "Fare           float64\n",
            "Cabin           object\n",
            "Embarked        object\n",
            "dtype: object\n"
          ],
          "name": "stdout"
        }
      ]
    },
    {
      "cell_type": "markdown",
      "metadata": {
        "id": "XYriyiuVjuUV",
        "colab_type": "text"
      },
      "source": [
        "Let's create a scatter plot compare the 'Age' of a passenger to their 'Fare.'\n",
        "\n",
        "We'll begin by creating a subtable with the columns 'Age' and 'Fare.'"
      ]
    },
    {
      "cell_type": "code",
      "metadata": {
        "id": "j1ZU_syRjuUV",
        "colab_type": "code",
        "colab": {
          "base_uri": "https://localhost:8080/",
          "height": 402
        },
        "outputId": "4af5967a-a3c4-42bd-977d-36642cc408e6"
      },
      "source": [
        "\n",
        "age_fare_table = titanic.filter(items = ['Age', 'Fare'])\n",
        "\n",
        "age_fare_table"
      ],
      "execution_count": 89,
      "outputs": [
        {
          "output_type": "execute_result",
          "data": {
            "text/html": [
              "<div>\n",
              "<style scoped>\n",
              "    .dataframe tbody tr th:only-of-type {\n",
              "        vertical-align: middle;\n",
              "    }\n",
              "\n",
              "    .dataframe tbody tr th {\n",
              "        vertical-align: top;\n",
              "    }\n",
              "\n",
              "    .dataframe thead th {\n",
              "        text-align: right;\n",
              "    }\n",
              "</style>\n",
              "<table border=\"1\" class=\"dataframe\">\n",
              "  <thead>\n",
              "    <tr style=\"text-align: right;\">\n",
              "      <th></th>\n",
              "      <th>Age</th>\n",
              "      <th>Fare</th>\n",
              "    </tr>\n",
              "  </thead>\n",
              "  <tbody>\n",
              "    <tr>\n",
              "      <th>0</th>\n",
              "      <td>22.0</td>\n",
              "      <td>7.2500</td>\n",
              "    </tr>\n",
              "    <tr>\n",
              "      <th>1</th>\n",
              "      <td>38.0</td>\n",
              "      <td>71.2833</td>\n",
              "    </tr>\n",
              "    <tr>\n",
              "      <th>2</th>\n",
              "      <td>26.0</td>\n",
              "      <td>7.9250</td>\n",
              "    </tr>\n",
              "    <tr>\n",
              "      <th>3</th>\n",
              "      <td>35.0</td>\n",
              "      <td>53.1000</td>\n",
              "    </tr>\n",
              "    <tr>\n",
              "      <th>4</th>\n",
              "      <td>35.0</td>\n",
              "      <td>8.0500</td>\n",
              "    </tr>\n",
              "    <tr>\n",
              "      <th>...</th>\n",
              "      <td>...</td>\n",
              "      <td>...</td>\n",
              "    </tr>\n",
              "    <tr>\n",
              "      <th>886</th>\n",
              "      <td>27.0</td>\n",
              "      <td>13.0000</td>\n",
              "    </tr>\n",
              "    <tr>\n",
              "      <th>887</th>\n",
              "      <td>19.0</td>\n",
              "      <td>30.0000</td>\n",
              "    </tr>\n",
              "    <tr>\n",
              "      <th>888</th>\n",
              "      <td>NaN</td>\n",
              "      <td>23.4500</td>\n",
              "    </tr>\n",
              "    <tr>\n",
              "      <th>889</th>\n",
              "      <td>26.0</td>\n",
              "      <td>30.0000</td>\n",
              "    </tr>\n",
              "    <tr>\n",
              "      <th>890</th>\n",
              "      <td>32.0</td>\n",
              "      <td>7.7500</td>\n",
              "    </tr>\n",
              "  </tbody>\n",
              "</table>\n",
              "<p>891 rows × 2 columns</p>\n",
              "</div>"
            ],
            "text/plain": [
              "      Age     Fare\n",
              "0    22.0   7.2500\n",
              "1    38.0  71.2833\n",
              "2    26.0   7.9250\n",
              "3    35.0  53.1000\n",
              "4    35.0   8.0500\n",
              "..    ...      ...\n",
              "886  27.0  13.0000\n",
              "887  19.0  30.0000\n",
              "888   NaN  23.4500\n",
              "889  26.0  30.0000\n",
              "890  32.0   7.7500\n",
              "\n",
              "[891 rows x 2 columns]"
            ]
          },
          "metadata": {
            "tags": []
          },
          "execution_count": 89
        }
      ]
    },
    {
      "cell_type": "markdown",
      "metadata": {
        "id": "SRlGEUN6juUX",
        "colab_type": "text"
      },
      "source": [
        "Notice that some of the rows have null or **NaN** values. There are two things we can do when dealing with these values:\n",
        "    \n",
        "   1) Replace the NaN values with a value using the **`.isna()`**\n",
        "    \n",
        "   2) Drop the rows that have them using **`.dropna()`**\n",
        "    \n",
        "We'll be doing the latter first."
      ]
    },
    {
      "cell_type": "code",
      "metadata": {
        "id": "iw_H0-yFjuUX",
        "colab_type": "code",
        "colab": {
          "base_uri": "https://localhost:8080/",
          "height": 402
        },
        "outputId": "b873f6d3-b6a3-4c8f-87a9-0efc5cd85b21"
      },
      "source": [
        "age_fare_table = age_fare_table.dropna()\n",
        "age_fare_table"
      ],
      "execution_count": 84,
      "outputs": [
        {
          "output_type": "execute_result",
          "data": {
            "text/html": [
              "<div>\n",
              "<style scoped>\n",
              "    .dataframe tbody tr th:only-of-type {\n",
              "        vertical-align: middle;\n",
              "    }\n",
              "\n",
              "    .dataframe tbody tr th {\n",
              "        vertical-align: top;\n",
              "    }\n",
              "\n",
              "    .dataframe thead th {\n",
              "        text-align: right;\n",
              "    }\n",
              "</style>\n",
              "<table border=\"1\" class=\"dataframe\">\n",
              "  <thead>\n",
              "    <tr style=\"text-align: right;\">\n",
              "      <th></th>\n",
              "      <th>Age</th>\n",
              "      <th>Fare</th>\n",
              "    </tr>\n",
              "  </thead>\n",
              "  <tbody>\n",
              "    <tr>\n",
              "      <th>0</th>\n",
              "      <td>22.0</td>\n",
              "      <td>7.2500</td>\n",
              "    </tr>\n",
              "    <tr>\n",
              "      <th>1</th>\n",
              "      <td>38.0</td>\n",
              "      <td>71.2833</td>\n",
              "    </tr>\n",
              "    <tr>\n",
              "      <th>2</th>\n",
              "      <td>26.0</td>\n",
              "      <td>7.9250</td>\n",
              "    </tr>\n",
              "    <tr>\n",
              "      <th>3</th>\n",
              "      <td>35.0</td>\n",
              "      <td>53.1000</td>\n",
              "    </tr>\n",
              "    <tr>\n",
              "      <th>4</th>\n",
              "      <td>35.0</td>\n",
              "      <td>8.0500</td>\n",
              "    </tr>\n",
              "    <tr>\n",
              "      <th>...</th>\n",
              "      <td>...</td>\n",
              "      <td>...</td>\n",
              "    </tr>\n",
              "    <tr>\n",
              "      <th>885</th>\n",
              "      <td>39.0</td>\n",
              "      <td>29.1250</td>\n",
              "    </tr>\n",
              "    <tr>\n",
              "      <th>886</th>\n",
              "      <td>27.0</td>\n",
              "      <td>13.0000</td>\n",
              "    </tr>\n",
              "    <tr>\n",
              "      <th>887</th>\n",
              "      <td>19.0</td>\n",
              "      <td>30.0000</td>\n",
              "    </tr>\n",
              "    <tr>\n",
              "      <th>889</th>\n",
              "      <td>26.0</td>\n",
              "      <td>30.0000</td>\n",
              "    </tr>\n",
              "    <tr>\n",
              "      <th>890</th>\n",
              "      <td>32.0</td>\n",
              "      <td>7.7500</td>\n",
              "    </tr>\n",
              "  </tbody>\n",
              "</table>\n",
              "<p>714 rows × 2 columns</p>\n",
              "</div>"
            ],
            "text/plain": [
              "      Age     Fare\n",
              "0    22.0   7.2500\n",
              "1    38.0  71.2833\n",
              "2    26.0   7.9250\n",
              "3    35.0  53.1000\n",
              "4    35.0   8.0500\n",
              "..    ...      ...\n",
              "885  39.0  29.1250\n",
              "886  27.0  13.0000\n",
              "887  19.0  30.0000\n",
              "889  26.0  30.0000\n",
              "890  32.0   7.7500\n",
              "\n",
              "[714 rows x 2 columns]"
            ]
          },
          "metadata": {
            "tags": []
          },
          "execution_count": 84
        }
      ]
    },
    {
      "cell_type": "markdown",
      "metadata": {
        "id": "UKVLhD_CjuUZ",
        "colab_type": "text"
      },
      "source": [
        "Now let's get to scattering. \n",
        "\n",
        "First, store each column in an array.\n",
        "\n",
        "Next, scatter the values"
      ]
    },
    {
      "cell_type": "code",
      "metadata": {
        "id": "P6v0mzmMjuUZ",
        "colab_type": "code",
        "colab": {
          "base_uri": "https://localhost:8080/",
          "height": 325
        },
        "outputId": "0b74fb94-f655-49b7-89e4-8b2620e1bea2"
      },
      "source": [
        "age = age_fare_table['Age'].values\n",
        "fare= age_fare_table['Fare'].values\n",
        "\n",
        "plt.scatter(age, fare, c='red', alpha=0.5)\n",
        "plt.title('Age and Fare Correlation')\n",
        "plt.xlabel('Age')\n",
        "plt.ylabel('Fare')\n",
        "plt.show()"
      ],
      "execution_count": 85,
      "outputs": [
        {
          "output_type": "display_data",
          "data": {
            "image/png": "[encoded data removed]",
            "text/plain": [
              "<Figure size 432x288 with 1 Axes>"
            ]
          },
          "metadata": {
            "tags": []
          }
        }
      ]
    },
    {
      "cell_type": "markdown",
      "metadata": {
        "id": "wPuKfnInjuUa",
        "colab_type": "text"
      },
      "source": [
        "**Question:** Take a look at the original table columns. Is there a better column we can compare the 'Fare' with ? Is there a better column we can compare the 'Age' with ? Explain why or why not below."
      ]
    },
    {
      "cell_type": "code",
      "metadata": {
        "id": "rJjNdt18juUb",
        "colab_type": "code",
        "colab": {}
      },
      "source": [
        "explanation3 = \" I believe it would be better to compare age to who survived to see if age played a factor in who lived and died. I also believe that the fare should compared with sex to see if there was a significant difference in price by gender\"\n",
        "explanation3"
      ],
      "execution_count": null,
      "outputs": []
    },
    {
      "cell_type": "markdown",
      "metadata": {
        "id": "SXeJkKSwjuUc",
        "colab_type": "text"
      },
      "source": [
        "**Question:** Find the average age of the 'Age' column in the first `age_fare_table` (the one with NaN values). Using the **`.isna()`** function, fill the `age_fare_table` **NaN** values with the average age of the 'Age' column. Finally, created a scatter plot based on filled table."
      ]
    },
    {
      "cell_type": "code",
      "metadata": {
        "id": "bYGt-5gajuUd",
        "colab_type": "code",
        "colab": {}
      },
      "source": [
        ""
      ],
      "execution_count": null,
      "outputs": []
    }
  ]
}